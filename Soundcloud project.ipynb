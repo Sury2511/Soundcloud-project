{
 "cells": [
  {
   "attachments": {},
   "cell_type": "markdown",
   "id": "b7e85076",
   "metadata": {},
   "source": [
    "# PROJECT 01 - Soundcloud Project"
   ]
  },
  {
   "cell_type": "code",
   "execution_count": 1,
   "id": "d1699409",
   "metadata": {},
   "outputs": [],
   "source": [
    "from bs4 import BeautifulSoup \n",
    "import time\n",
    "import pandas as pd\n",
    "from selenium import webdriver"
   ]
  },
  {
   "attachments": {},
   "cell_type": "markdown",
   "id": "0d414ee8",
   "metadata": {},
   "source": [
    "**<font size=\"5\">PARSE HTML</font>**\n",
    "\n",
    "**Idea:**\n",
    "\n",
    "- Step 1: Create a list of keywords we want to search.\n",
    "\n",
    "- Step 2: For each keyword in the keywords list, crawl data from \"https://soundcloud.com/search/sets?q= + keyword\" to find data of some playlists(playlist_id, playlist_title, playlist_url) that match to that keyword.\n",
    "\n",
    "- Step 3: With each found playlist, crawl data from that playlist_url to find data of maximum 5 tracks(track_id, track_title, track_url) and fill all missing data of that playlist (except userId). \n",
    "    - *Note: if there is more than 5 tracks, find only 5 and ignore the rest.\n",
    "\n",
    "- Step 4: From crawling found playlists and tracks urls, find data of users who own them. If it is track, fill all missing data of that track. If it is playlist, fill playlist's userID."
   ]
  },
  {
   "attachments": {},
   "cell_type": "markdown",
   "id": "a67d736a",
   "metadata": {},
   "source": [
    "**Playlist**\n",
    "\n",
    "| Collumn Name | Description |\n",
    "| --- | --- |\n",
    "| id | Playlist ID |\n",
    "| title | Playlist's tile |\n",
    "| create_date | Playlist's creation date |\n",
    "| likes_count | Playlist's number of likes |\n",
    "| reposts_count | Playlist's number of reposts |\n",
    "| tracks_count | Playlist's number of tracks |\n",
    "| total_playtime | Playlist's total playtime |\n",
    "| tags | Playlist's all tags |\n",
    "| url | Playlist's URL |\n",
    "| userId | Playlist's owner userID |\n",
    "| trackIds | All playlist's trackIDs (maximum 5) |"
   ]
  },
  {
   "attachments": {},
   "cell_type": "markdown",
   "id": "8f4778b6",
   "metadata": {},
   "source": [
    "**Track**\n",
    "\n",
    "| Collumn Name | Description |\n",
    "| --- | --- |\n",
    "| id | Track ID |\n",
    "| title | Track's tile |\n",
    "| upload_date | Track's upload date |\n",
    "| plays_count | Track's number of plays |\n",
    "| likes_count | Track's number of likes |\n",
    "| reposts_count | Track's number of reposts |\n",
    "| comments_count | Track's number of comments |\n",
    "| tags | Track's all tags |\n",
    "| userId | Track's owner userID |\n",
    "| url | Track's URL |"
   ]
  },
  {
   "attachments": {},
   "cell_type": "markdown",
   "id": "83a7bc30",
   "metadata": {},
   "source": [
    "**User**\n",
    "\n",
    "| Collumn Name | Description |\n",
    "| --- | --- |\n",
    "| id | User ID |\n",
    "| display_name | User's display name |\n",
    "| followers_count | User's number of followers |\n",
    "| tracks_count | User's number of tracks |\n",
    "| url | User's URL |"
   ]
  },
  {
   "attachments": {},
   "cell_type": "markdown",
   "id": "a6c70331",
   "metadata": {},
   "source": [
    "**Setup**"
   ]
  },
  {
   "cell_type": "code",
   "execution_count": null,
   "id": "a5cce50b",
   "metadata": {},
   "outputs": [],
   "source": [
    "options = webdriver.ChromeOptions()\n",
    "options.add_argument(\"--mute-audio\")\n",
    "\n",
    "driver = webdriver.Chrome(options=options)\n",
    "driver.set_page_load_timeout(7)"
   ]
  },
  {
   "cell_type": "code",
   "execution_count": null,
   "id": "6f8c0902",
   "metadata": {},
   "outputs": [],
   "source": [
    "homepage_url = \"https://soundcloud.com\"\n",
    "track_url = \"https://soundcloud.com/search/sounds?q=\"\n",
    "artist_url = \"https://soundcloud.com/search/people?q=\"\n",
    "Playlists_url = \"https://soundcloud.com/search/sets?q=\""
   ]
  },
  {
   "cell_type": "code",
   "execution_count": null,
   "id": "6eb62b86",
   "metadata": {},
   "outputs": [],
   "source": [
    "keywords = ['Vietnam', 'Lofi'   , 'Chill'      , 'Pop'       , 'Kpop', \n",
    "            'Hiphop' , 'Anime'  , 'Future Bass', 'Remix'     , 'EDM', \n",
    "            'Trap'   , 'Country', 'Jazz'       , 'Blues'     , 'Trance', \n",
    "            'Rap'    , 'Rock'   , 'Acoustic'   , 'Electronic', 'Indie', \n",
    "            'Dubstep', 'Folk'   , 'Disney'     , 'Bolero'    , 'Beats',\n",
    "            'Gaming' , 'Japan'  , 'Ambient'    , 'Piano'     , 'Guitar']"
   ]
  },
  {
   "cell_type": "code",
   "execution_count": null,
   "id": "e2d4c383",
   "metadata": {},
   "outputs": [],
   "source": [
    "time_sleep = 4"
   ]
  },
  {
   "cell_type": "code",
   "execution_count": null,
   "id": "32acbb15",
   "metadata": {},
   "outputs": [],
   "source": [
    "current_playlist_id = 0\n",
    "current_track_id = 0\n",
    "current_user_id = 0"
   ]
  },
  {
   "attachments": {},
   "cell_type": "markdown",
   "id": "849f85d7",
   "metadata": {},
   "source": [
    "**Get playlist function**\n",
    "\n",
    "`search_playlists_by_keyword`: return data of some playlists(id, title, url) that match to an input keyword\n",
    "- Input:\n",
    "    - keyword.\n",
    "    - current_playlist_id: add 1 to current_playlist_id to use it in the next funtion.\n",
    "    \n",
    "`search_playlists_by_keywords`: return all data of found playlists(id, title, url) by running above function through each keyword in keywords list.\n",
    "- Input:\n",
    "    - keywords: list of keywords.\n",
    "    - current_playlist_id: To assign current_playlist_id to playlist id."
   ]
  },
  {
   "cell_type": "code",
   "execution_count": null,
   "id": "a66c0565",
   "metadata": {},
   "outputs": [],
   "source": [
    "# Obtains a list of playlists searched by using a keyword\n",
    "def search_playlists_by_keyword(keyword, current_playlist_id):\n",
    "    # Empty list contains final result\n",
    "    _playlists = []\n",
    "    \n",
    "    driver.get(Playlists_url + keyword)\n",
    "    time.sleep(time_sleep)\n",
    "    driver.execute_script(\"window.scrollBy(0,document.body.scrollHeight);\")\n",
    "    time.sleep(time_sleep)\n",
    "    driver.execute_script(\"window.scrollBy(0,document.body.scrollHeight);\")\n",
    "    time.sleep(time_sleep)\n",
    "    driver.execute_script(\"window.scrollBy(0,document.body.scrollHeight);\")\n",
    "    time.sleep(time_sleep)\n",
    "\n",
    "    soup = BeautifulSoup(driver.page_source)\n",
    "\n",
    "    # Get playlist items\n",
    "    search_items = soup.find_all('li', class_='searchList__item sc-mt-3x')\n",
    "    for item in search_items:\n",
    "        # Title\n",
    "        title = ''\n",
    "        _title = item.find('a', class_='sc-link-primary soundTitle__title sc-link-dark sc-text-h4')\n",
    "        if _title is not None:\n",
    "            _title = _title.find('span')\n",
    "            if _title is not None:\n",
    "                title = _title.text\n",
    "\n",
    "        # URL\n",
    "        url = ''\n",
    "        _ref = item.find('a', class_='sound__coverArt')\n",
    "        if _ref is not None:\n",
    "            url = homepage_url + _ref['href']\n",
    "\n",
    "        # Add to result if URL isn't already in result\n",
    "        if url not in [p['url'] for p in _playlists] and url != '':\n",
    "            _playlists.append({'id':'' ,'title':title, 'create_date':'', 'likes_count':'', 'reposts_count':'',\\\n",
    "                               'tracks_count':'', 'total_playtime':'', 'tags':'', 'url':url, 'userId':'', 'trackIds':''}) \n",
    "            current_playlist_id += 1\n",
    "    \n",
    "    print('Keyword:', keyword)\n",
    "    print(len(_playlists), 'playlist(s)\\n')\n",
    "    return _playlists\n",
    "            \n",
    "# Obtains a list of playlists searched by using a list of keywords\n",
    "def search_playlists_by_keywords(keywords, current_playlist_id):\n",
    "    # Empty list contains final result\n",
    "    playlists = []\n",
    "    \n",
    "    for keyword in keywords:\n",
    "        rs = search_playlists_by_keyword(keyword, current_playlist_id)\n",
    "        for r in rs:\n",
    "            if r not in playlists:\n",
    "                r['id'] = str(current_playlist_id)\n",
    "                current_playlist_id +=1\n",
    "                playlists.append(r)\n",
    "    \n",
    "    return playlists"
   ]
  },
  {
   "attachments": {},
   "cell_type": "markdown",
   "id": "7da026b9",
   "metadata": {},
   "source": [
    "**Get Track function**\n",
    "\n",
    "`get_tracks_from_playlist`: From input playlist, get playlist URL and fill all missing data of that playlist(except userId), then return data of maximum 5 tracks(title, url) from that playlist.\n",
    "- Input:\n",
    "    - playlist\n",
    "\n",
    "`get_tracks_from_playlists`: return all data of found tracks(id, title, url) by running above function through each playlist in input playlists list.\n",
    "- Input: \n",
    "    - playlists: list of playlists.\n",
    "    - current_track_id: To assign current_track_id to track id."
   ]
  },
  {
   "cell_type": "code",
   "execution_count": null,
   "id": "1a3cff18",
   "metadata": {},
   "outputs": [],
   "source": [
    "# Max tracks obtains per playlist\n",
    "tracks_per_playlist = 5\n",
    "\n",
    "# Obtains a list of tracks inside a playlist\n",
    "# Update info about that playlist\n",
    "def get_tracks_from_playlist(playlist):\n",
    "    # Empty list contains final result\n",
    "    _tracks = []\n",
    "    \n",
    "    driver.get(playlist['url'])\n",
    "    time.sleep(time_sleep)\n",
    "    driver.execute_script(\"scroll(0, 250);\")\n",
    "    time.sleep(time_sleep)\n",
    "    parse = BeautifulSoup(driver.page_source)\n",
    "            \n",
    "    # Create date\n",
    "    create_date = ''\n",
    "    _create_date = parse.find('time', class_='relativeTime')\n",
    "    if _create_date is not None:\n",
    "        create_date = _create_date['title']\n",
    "\n",
    "    # Summary: tracks count, total playtime\n",
    "    tracks_count   = ''\n",
    "    total_playtime = ''\n",
    "    summary = parse.find('div', class_='fullHero__tracksSummary')\n",
    "    if summary is not None:\n",
    "        _tracks_count = summary.find('div', class_='genericTrackCount__title')\n",
    "        if _tracks_count is not None:\n",
    "            tracks_count   = _tracks_count.text.replace(',', '')\n",
    "        _total_playtime = summary.find('div', class_='genericTrackCount__duration')\n",
    "        if _total_playtime is not None:\n",
    "            total_playtime = _total_playtime.text\n",
    "\n",
    "    # Tags\n",
    "    tags = ''\n",
    "    _tags = parse.find_all('span', class_='sc-truncate sc-tagContent')\n",
    "    if len(_tags) > 0:\n",
    "        tags = ', '.join([t.text for t in _tags])\n",
    "\n",
    "    # Playlist stats: likes, reposts\n",
    "    likes_count   = '0'\n",
    "    reposts_count = '0'\n",
    "    stats_area = parse.find('ul', attrs={'aria-label':'Playlist stats'})\n",
    "    if stats_area is not None:\n",
    "        stats = stats_area.find_all('li', class_='sc-ministats-item')\n",
    "        for stat in stats:\n",
    "            if 'like' in stat['title']:\n",
    "                likes_count = stat['title'].rstrip('s').rstrip(' like').replace(',', '')\n",
    "            elif 'repost' in stat['title']:\n",
    "                reposts_count = stat['title'].rstrip('s').rstrip(' repost').replace(',', '')\n",
    "\n",
    "    # Update playlist\n",
    "    playlist['create_date']    = create_date\n",
    "    playlist['tracks_count']   = tracks_count\n",
    "    playlist['total_playtime'] = total_playtime\n",
    "    playlist['likes_count']    = likes_count\n",
    "    playlist['reposts_count']  = reposts_count\n",
    "    playlist['tags']           = tags\n",
    "\n",
    "    # Get track items\n",
    "    track_items = parse.find_all('div', class_='trackItem__content sc-truncate', limit=tracks_per_playlist)\n",
    "    for track_item in track_items:\n",
    "\n",
    "        # Skip geoblocked track items\n",
    "        track_item_additional = track_item.find_next_sibling('div', class_='trackItem__additional')\n",
    "        if track_item_additional is not None:\n",
    "            if track_item_additional.find('span', class_='trackItem__blockMsg g-geoblocked-icon') is not None:\n",
    "                continue\n",
    "\n",
    "        title_url = track_item.find('a', class_='trackItem__trackTitle sc-link-dark sc-link-primary sc-font-light')\n",
    "\n",
    "        track_title = ''\n",
    "        track_url   = ''\n",
    "        if title_url is not None:\n",
    "            track_title = title_url.text\n",
    "            track_href  = title_url['href']\n",
    "            i = track_href.find('?')\n",
    "            if i != -1:\n",
    "                track_href = track_href[0:i]\n",
    "            track_url = homepage_url + track_href\n",
    "\n",
    "        # Add to result if URL isn't already in result or invalid\n",
    "        if track_url not in [track['url'] for track in _tracks] and track_url != '':\n",
    "            _tracks.append({'id':'', 'title':track_title, 'upload_date':'', 'plays_count':'', 'likes_count':'',\\\n",
    "                            'reposts_count':'', 'comments_count':'', 'tags':'', 'userId':'', 'url':track_url})\n",
    "\n",
    "    \n",
    "    print('Playlist:', playlist['url'])\n",
    "    print(len(_tracks), 'track(s)\\n')\n",
    "    return _tracks\n",
    "\n",
    "# Obtains a list of tracks from a list of playlists\n",
    "# Update info about those playlists\n",
    "def get_tracks_from_playlists(playlists, current_track_id):\n",
    "    # Empty list contains final result\n",
    "    tracks = []\n",
    "    \n",
    "    for playlist in playlists:\n",
    "        rs = get_tracks_from_playlist(playlist)\n",
    "        for r in rs:\n",
    "            \n",
    "            not_in = True\n",
    "            in_idx = None\n",
    "            for i in range(len(tracks)):\n",
    "                if r['url'] == tracks[i]['url']:\n",
    "                    not_in = False\n",
    "                    in_idx = i\n",
    "            \n",
    "            if not_in:\n",
    "                r['id'] = str(current_track_id)\n",
    "                current_track_id += 1\n",
    "                tracks.append(r)\n",
    "                if playlist['trackIds'] == '':\n",
    "                    playlist['trackIds'] = r['id']\n",
    "                else:\n",
    "                    playlist['trackIds'] += ',' + r['id']\n",
    "            else:\n",
    "                if playlist['trackIds'] == '':\n",
    "                    playlist['trackIds'] = tracks[in_idx]['id']\n",
    "                else:\n",
    "                    playlist['trackIds'] += ',' + tracks[in_idx]['id']\n",
    "\n",
    "\n",
    "    return tracks"
   ]
  },
  {
   "attachments": {},
   "cell_type": "markdown",
   "id": "d082039a",
   "metadata": {},
   "source": [
    "**Get User function**\n",
    "\n",
    "`get_user_from_track_or_playlist`: From input track or playlist. If it is track, fill all missing data of that track(except userId) then return data of that track's user(display_name, followers_count, tracks_count, url). IF it is playlist, only return data of that playlist's user.\n",
    "- Input:\n",
    "    - track=None\n",
    "    - playlist=None\n",
    "    \n",
    "`get_users_from_tracks`: Fill track userId, return current_user_id and all data of found user by running `get_user_from_track_or_playlist` function through each track in a tracks list.\n",
    "- Input:\n",
    "    - tracks: a list of tracks.\n",
    "    - current_user_id: To assign current_user_id to user id.\n",
    "    - users: a list of users\n",
    "\n",
    "`get_users_from_playlists`: Fill playlist userId, return current_user_id and all data of found user by running `get_user_from_track_or_playlist` function through each playlist in a playlists list.\n",
    "- Input:\n",
    "    - playlists: a list of playlists.\n",
    "    - current_user_id: To assign current_user_id to user id.\n",
    "    - users: a list of users."
   ]
  },
  {
   "cell_type": "code",
   "execution_count": null,
   "id": "15ccb365",
   "metadata": {},
   "outputs": [],
   "source": [
    "# Obtains a list of users from a track\n",
    "# Update info about that track\n",
    "def get_user_from_track_or_playlist(track=None, playlist=None):\n",
    "    # Create session\n",
    "    obj = None\n",
    "    print_out = None\n",
    "    if track != None:\n",
    "        obj = track\n",
    "        print_out = \"Track:\"\n",
    "    elif playlist != None:\n",
    "        obj = playlist\n",
    "        print_out = \"Playlist:\"\n",
    "    else:\n",
    "        return None\n",
    "\n",
    "    driver.get(obj['url'])\n",
    "    time.sleep(time_sleep)\n",
    "    parse = BeautifulSoup(driver.page_source)\n",
    "\n",
    "    if track != None:\n",
    "\n",
    "        # Update date\n",
    "        upload_date = ''\n",
    "        _upload_date = parse.find('time', class_='relativeTime')\n",
    "        upload_date = _upload_date['title']\n",
    "\n",
    "        # Track stats: likes, reposts, plays\n",
    "        likes_count   = '0'\n",
    "        reposts_count = '0'\n",
    "        plays_count   = '0'\n",
    "        stats_area = parse.find('ul', attrs={'aria-label':'Track stats'})\n",
    "        if stats_area is not None:\n",
    "            stats = stats_area.find_all('li', class_='sc-ministats-item')\n",
    "            for stat in stats:\n",
    "                if 'like' in stat['title']:\n",
    "                    likes_count = stat['title'].rstrip('s').rstrip(' like').replace(',', '')\n",
    "                elif 'repost' in stat['title']:\n",
    "                    reposts_count = stat['title'].rstrip('s').rstrip(' repost').replace(',', '')\n",
    "                elif 'play' in stat['title']:\n",
    "                    plays_count = stat['title'].rstrip('s').rstrip(' play').replace(',', '')\n",
    "\n",
    "        # Comments\n",
    "        comments_count = '0'\n",
    "        _comments_count = parse.find('span', class_='commentsList__actualTitle')\n",
    "        if _comments_count is not None:\n",
    "            comments_count = _comments_count.text.rstrip('s').rstrip(' comment').replace(',', '')\n",
    "\n",
    "        # Tags\n",
    "        tags = ''\n",
    "        _tags = parse.find_all('span', class_='sc-truncate sc-tagContent')\n",
    "        if len(_tags) > 0:\n",
    "            tags = ', '.join([t.text for t in _tags])\n",
    "\n",
    "        # Update track\n",
    "        track['upload_date']    = upload_date\n",
    "        track['likes_count']    = likes_count\n",
    "        track['reposts_count']  = reposts_count\n",
    "        track['plays_count']    = plays_count\n",
    "        track['comments_count'] = comments_count\n",
    "        track['tags']           = tags\n",
    "\n",
    "    # User content: display name, url, followers, tracks count\n",
    "    user_display_name = ''\n",
    "    user_url          = ''\n",
    "    user_followers_count = '0'\n",
    "    user_tracks_count    = '0'\n",
    "    user_content = parse.find('div', class_='userBadge__content sc-media-content')\n",
    "    if user_content is not None:\n",
    "        _user_display_name = user_content.find('span')\n",
    "        if _user_display_name is not None:\n",
    "            user_display_name = _user_display_name.text\n",
    "        _ref = user_content.find('a')\n",
    "        if _ref is not None:\n",
    "            user_url = homepage_url + _ref['href']\n",
    "\n",
    "        user_stats = user_content.find_all('li', class_='sc-ministats-item')\n",
    "        for user_stat in user_stats:\n",
    "            if 'follower' in user_stat['title']:\n",
    "                user_followers_count = user_stat['title'].rstrip('s').rstrip(' follower').replace(',', '')\n",
    "            elif 'track' in user_stat['title']:\n",
    "                user_tracks_count = user_stat['title'].rstrip('s').rstrip(' track').replace(',', '')\n",
    "    else:\n",
    "        print('No')\n",
    "    \n",
    "    \n",
    "    \n",
    "    print(print_out, obj['url'])\n",
    "    print('User:', user_display_name, '(', user_url, ')\\n')\n",
    "    return {'id':'', 'display_name':user_display_name, 'followers_count':user_followers_count,\\\n",
    "            'tracks_count':user_tracks_count, 'url':user_url}\n",
    "            \n",
    "# Obtains a list of users from a list of tracks\n",
    "# Update info about those tracks\n",
    "def get_users_from_tracks(tracks, current_user_id, users=[]):\n",
    "    for track in tracks:\n",
    "        user = get_user_from_track_or_playlist(track=track)\n",
    "            \n",
    "        not_in = True\n",
    "        in_idx = None\n",
    "        for i in range(len(users)):\n",
    "            if user['url'] == users[i]['url']:\n",
    "                not_in = False\n",
    "                in_idx = i\n",
    "\n",
    "        if not_in:\n",
    "            user['id'] = str(current_user_id)\n",
    "            current_user_id += 1\n",
    "            users.append(user)\n",
    "            track['userId'] = user['id']\n",
    "        else:\n",
    "            track['userId'] = users[in_idx]['id']\n",
    "    \n",
    "    return users, current_user_id\n",
    "\n",
    "# Obtains a list of users from a list of tracks\n",
    "def get_users_from_playlists(playlists, current_user_id, users=[]):\n",
    "    for playlist in playlists:\n",
    "        user = get_user_from_track_or_playlist(playlist=playlist)\n",
    "\n",
    "        not_in = True\n",
    "        in_idx = None\n",
    "        for i in range(len(users)):\n",
    "            if user['url'] == users[i]['url']:\n",
    "                not_in = False\n",
    "                in_idx = i\n",
    "\n",
    "        if not_in:\n",
    "            user['id'] = str(current_user_id)\n",
    "            current_user_id += 1\n",
    "            users.append(user)\n",
    "            playlist['userId'] = user['id']\n",
    "        else:\n",
    "            playlist['userId'] = users[in_idx]['id']\n",
    "    \n",
    "    return users, current_user_id"
   ]
  },
  {
   "cell_type": "code",
   "execution_count": null,
   "id": "edb09464",
   "metadata": {},
   "outputs": [],
   "source": [
    "playlists = search_playlists_by_keywords(keywords, current_playlist_id)"
   ]
  },
  {
   "cell_type": "code",
   "execution_count": null,
   "id": "ef0f8599",
   "metadata": {},
   "outputs": [],
   "source": [
    "tracks    = get_tracks_from_playlists(playlists, current_track_id)"
   ]
  },
  {
   "cell_type": "code",
   "execution_count": null,
   "id": "8121163f",
   "metadata": {},
   "outputs": [],
   "source": [
    "users, current_user_id     = get_users_from_tracks(tracks=tracks, current_user_id=current_user_id)"
   ]
  },
  {
   "cell_type": "code",
   "execution_count": null,
   "id": "28dc7dde",
   "metadata": {},
   "outputs": [],
   "source": [
    "users, current_user_id     = get_users_from_playlists(playlists=playlists, current_user_id=current_user_id, users=users)"
   ]
  },
  {
   "cell_type": "code",
   "execution_count": null,
   "id": "7b9a9f4a",
   "metadata": {},
   "outputs": [],
   "source": [
    "driver.close()"
   ]
  },
  {
   "cell_type": "code",
   "execution_count": null,
   "id": "78b0396c",
   "metadata": {},
   "outputs": [],
   "source": [
    "print('Found: ')\n",
    "print(' - ', len(playlists), 'playlist(s)')\n",
    "print(' - ', len(tracks), 'track(s)')\n",
    "print(' - ', len(users), 'user(s)')\n",
    "\n",
    "df1 = pd.DataFrame(playlists)\n",
    "df1.to_csv('Crawl_data/playlist.csv', index=False)\n",
    "\n",
    "df2 = pd.DataFrame(tracks)\n",
    "df2.to_csv('Crawl_data/track.csv', index=False)\n",
    "\n",
    "df3 = pd.DataFrame(users)\n",
    "df3.to_csv('Crawl_data/user.csv', index=False)"
   ]
  },
  {
   "cell_type": "code",
   "execution_count": null,
   "id": "732dce03",
   "metadata": {},
   "outputs": [],
   "source": [
    "df_playlist = pd.read_csv('Crawl_data/playlist.csv')\n",
    "df_playlist"
   ]
  },
  {
   "cell_type": "code",
   "execution_count": null,
   "id": "f7f663af",
   "metadata": {},
   "outputs": [],
   "source": [
    "df_track = pd.read_csv('Crawl_data/track.csv')\n",
    "df_track"
   ]
  },
  {
   "cell_type": "code",
   "execution_count": null,
   "id": "212d0540",
   "metadata": {},
   "outputs": [],
   "source": [
    "df_user = pd.read_csv('Crawl_data/user.csv')\n",
    "df_user"
   ]
  },
  {
   "attachments": {},
   "cell_type": "markdown",
   "id": "0c2d349c",
   "metadata": {},
   "source": [
    "---"
   ]
  },
  {
   "attachments": {},
   "cell_type": "markdown",
   "id": "8969348e",
   "metadata": {},
   "source": [
    "**<font size=\"5\">Explore Data</font>**"
   ]
  },
  {
   "cell_type": "code",
   "execution_count": 2,
   "id": "088a6195",
   "metadata": {},
   "outputs": [],
   "source": [
    "import pandas as pd\n",
    "import numpy as np\n",
    "import matplotlib.pyplot as plt\n",
    "from collections import Counter\n",
    "import datetime\n",
    "import statistics\n",
    "import seaborn as sns\n",
    "from matplotlib import cycler"
   ]
  },
  {
   "attachments": {},
   "cell_type": "markdown",
   "id": "33ba28a1",
   "metadata": {},
   "source": [
    "### Data Analysis Checklist:\n",
    "- Check the data type whether it is matched with each attribute or not.\n",
    "- Check the null values and the duplicate values.\n",
    "- Check the outlier values.\n",
    "- Check univariate and multivariate correlations."
   ]
  },
  {
   "attachments": {},
   "cell_type": "markdown",
   "id": "8877f83a",
   "metadata": {},
   "source": [
    "### Questions about data set:\n",
    "- Did you clearly understand the attributes in your data sets?\n",
    "- Have you considered whether the question can be answered with the available data?"
   ]
  },
  {
   "attachments": {},
   "cell_type": "markdown",
   "id": "d731a122",
   "metadata": {},
   "source": [
    "### Data preprocessing:\n",
    "#### Read data from file:"
   ]
  },
  {
   "cell_type": "code",
   "execution_count": 3,
   "id": "205da3c1",
   "metadata": {},
   "outputs": [
    {
     "name": "stdout",
     "output_type": "stream",
     "text": [
      "Number of Rows:  4439\n",
      "Number of Columns:  4\n"
     ]
    },
    {
     "data": {
      "text/html": [
       "<div>\n",
       "<style scoped>\n",
       "    .dataframe tbody tr th:only-of-type {\n",
       "        vertical-align: middle;\n",
       "    }\n",
       "\n",
       "    .dataframe tbody tr th {\n",
       "        vertical-align: top;\n",
       "    }\n",
       "\n",
       "    .dataframe thead th {\n",
       "        text-align: right;\n",
       "    }\n",
       "</style>\n",
       "<table border=\"1\" class=\"dataframe\">\n",
       "  <thead>\n",
       "    <tr style=\"text-align: right;\">\n",
       "      <th></th>\n",
       "      <th>display_name</th>\n",
       "      <th>followers_count</th>\n",
       "      <th>tracks_count</th>\n",
       "      <th>url</th>\n",
       "    </tr>\n",
       "    <tr>\n",
       "      <th>id</th>\n",
       "      <th></th>\n",
       "      <th></th>\n",
       "      <th></th>\n",
       "      <th></th>\n",
       "    </tr>\n",
       "  </thead>\n",
       "  <tbody>\n",
       "    <tr>\n",
       "      <th>0</th>\n",
       "      <td>H u ệ N i n h</td>\n",
       "      <td>1339</td>\n",
       "      <td>6</td>\n",
       "      <td>https://soundcloud.com/hueninh2012</td>\n",
       "    </tr>\n",
       "    <tr>\n",
       "      <th>1</th>\n",
       "      <td>phmnganh</td>\n",
       "      <td>904</td>\n",
       "      <td>5</td>\n",
       "      <td>https://soundcloud.com/nguyen-pham-phuong-anh-...</td>\n",
       "    </tr>\n",
       "    <tr>\n",
       "      <th>2</th>\n",
       "      <td>I'm s̶.̶o̶w̶h̶o̶w̶a̶s̶b̶o̶r̶n̶a̶t̶ Chris t̶m̶a̶s̶</td>\n",
       "      <td>191</td>\n",
       "      <td>9</td>\n",
       "      <td>https://soundcloud.com/chris-hoang-2412</td>\n",
       "    </tr>\n",
       "    <tr>\n",
       "      <th>3</th>\n",
       "      <td>Kina</td>\n",
       "      <td>120743</td>\n",
       "      <td>68</td>\n",
       "      <td>https://soundcloud.com/kinabeats</td>\n",
       "    </tr>\n",
       "    <tr>\n",
       "      <th>4</th>\n",
       "      <td>frad</td>\n",
       "      <td>22246</td>\n",
       "      <td>36</td>\n",
       "      <td>https://soundcloud.com/fradical</td>\n",
       "    </tr>\n",
       "  </tbody>\n",
       "</table>\n",
       "</div>"
      ],
      "text/plain": [
       "                                         display_name  followers_count  \\\n",
       "id                                                                       \n",
       "0                                       H u ệ N i n h             1339   \n",
       "1                                            phmnganh              904   \n",
       "2   I'm s̶.̶o̶w̶h̶o̶w̶a̶s̶b̶o̶r̶n̶a̶t̶ Chris t̶m̶a̶s̶              191   \n",
       "3                                                Kina           120743   \n",
       "4                                                frad            22246   \n",
       "\n",
       "    tracks_count                                                url  \n",
       "id                                                                   \n",
       "0              6                 https://soundcloud.com/hueninh2012  \n",
       "1              5  https://soundcloud.com/nguyen-pham-phuong-anh-...  \n",
       "2              9            https://soundcloud.com/chris-hoang-2412  \n",
       "3             68                   https://soundcloud.com/kinabeats  \n",
       "4             36                    https://soundcloud.com/fradical  "
      ]
     },
     "execution_count": 3,
     "metadata": {},
     "output_type": "execute_result"
    }
   ],
   "source": [
    "user_df = pd.read_csv('user.csv')\n",
    "user_df = user_df.set_index('id')\n",
    "\n",
    "rows, cols = user_df.shape\n",
    "print('Number of Rows: ', rows)\n",
    "print('Number of Columns: ', cols)\n",
    "user_df.head()"
   ]
  },
  {
   "attachments": {},
   "cell_type": "markdown",
   "id": "52861e7f",
   "metadata": {},
   "source": [
    "---"
   ]
  },
  {
   "cell_type": "code",
   "execution_count": 4,
   "id": "0268f750",
   "metadata": {},
   "outputs": [
    {
     "name": "stdout",
     "output_type": "stream",
     "text": [
      "Number of Rows:  1196\n",
      "Number of Columns:  10\n"
     ]
    },
    {
     "data": {
      "text/html": [
       "<div>\n",
       "<style scoped>\n",
       "    .dataframe tbody tr th:only-of-type {\n",
       "        vertical-align: middle;\n",
       "    }\n",
       "\n",
       "    .dataframe tbody tr th {\n",
       "        vertical-align: top;\n",
       "    }\n",
       "\n",
       "    .dataframe thead th {\n",
       "        text-align: right;\n",
       "    }\n",
       "</style>\n",
       "<table border=\"1\" class=\"dataframe\">\n",
       "  <thead>\n",
       "    <tr style=\"text-align: right;\">\n",
       "      <th></th>\n",
       "      <th>title</th>\n",
       "      <th>create_date</th>\n",
       "      <th>likes_count</th>\n",
       "      <th>reposts_count</th>\n",
       "      <th>tracks_count</th>\n",
       "      <th>total_playtime</th>\n",
       "      <th>tags</th>\n",
       "      <th>url</th>\n",
       "      <th>userId</th>\n",
       "      <th>trackIds</th>\n",
       "    </tr>\n",
       "    <tr>\n",
       "      <th>id</th>\n",
       "      <th></th>\n",
       "      <th></th>\n",
       "      <th></th>\n",
       "      <th></th>\n",
       "      <th></th>\n",
       "      <th></th>\n",
       "      <th></th>\n",
       "      <th></th>\n",
       "      <th></th>\n",
       "      <th></th>\n",
       "    </tr>\n",
       "  </thead>\n",
       "  <tbody>\n",
       "    <tr>\n",
       "      <th>0</th>\n",
       "      <td>Lo-Fi Vietnam Chill</td>\n",
       "      <td>10 September 2019</td>\n",
       "      <td>31745</td>\n",
       "      <td>1217</td>\n",
       "      <td>48</td>\n",
       "      <td>2:55:36</td>\n",
       "      <td>Soundtrack, Soul, Lo-Fi, Acid, Relax, vietnam</td>\n",
       "      <td>https://soundcloud.com/winterhihiihiii/sets/lo...</td>\n",
       "      <td>3354</td>\n",
       "      <td>0,1,2,3,4</td>\n",
       "    </tr>\n",
       "    <tr>\n",
       "      <th>1</th>\n",
       "      <td>vietnam</td>\n",
       "      <td>8 April 2019</td>\n",
       "      <td>8</td>\n",
       "      <td>0</td>\n",
       "      <td>340</td>\n",
       "      <td>2:17:33</td>\n",
       "      <td>NaN</td>\n",
       "      <td>https://soundcloud.com/thang-bui-667476417/set...</td>\n",
       "      <td>3355</td>\n",
       "      <td>5,6,7,8,9</td>\n",
       "    </tr>\n",
       "    <tr>\n",
       "      <th>2</th>\n",
       "      <td>Vietnam</td>\n",
       "      <td>31 July 2020</td>\n",
       "      <td>4</td>\n",
       "      <td>0</td>\n",
       "      <td>297</td>\n",
       "      <td>2:02:49</td>\n",
       "      <td>NaN</td>\n",
       "      <td>https://soundcloud.com/sammmv/sets/vietnam</td>\n",
       "      <td>3356</td>\n",
       "      <td>10,11,12,13,14</td>\n",
       "    </tr>\n",
       "    <tr>\n",
       "      <th>3</th>\n",
       "      <td>Viet Nam</td>\n",
       "      <td>24 April 2020</td>\n",
       "      <td>7</td>\n",
       "      <td>0</td>\n",
       "      <td>427</td>\n",
       "      <td>2:14:05</td>\n",
       "      <td>NaN</td>\n",
       "      <td>https://soundcloud.com/minh-t-nguy-n-857855647...</td>\n",
       "      <td>3357</td>\n",
       "      <td>15,16,17,18,19</td>\n",
       "    </tr>\n",
       "    <tr>\n",
       "      <th>4</th>\n",
       "      <td>Vietnam</td>\n",
       "      <td>25 November 2019</td>\n",
       "      <td>9</td>\n",
       "      <td>0</td>\n",
       "      <td>247</td>\n",
       "      <td>2:07:48</td>\n",
       "      <td>NaN</td>\n",
       "      <td>https://soundcloud.com/ngan-hoang-810603610/se...</td>\n",
       "      <td>3358</td>\n",
       "      <td>20,21,22,23,24</td>\n",
       "    </tr>\n",
       "  </tbody>\n",
       "</table>\n",
       "</div>"
      ],
      "text/plain": [
       "                  title        create_date  likes_count  reposts_count  \\\n",
       "id                                                                       \n",
       "0   Lo-Fi Vietnam Chill  10 September 2019        31745           1217   \n",
       "1               vietnam       8 April 2019            8              0   \n",
       "2               Vietnam       31 July 2020            4              0   \n",
       "3              Viet Nam      24 April 2020            7              0   \n",
       "4               Vietnam   25 November 2019            9              0   \n",
       "\n",
       "    tracks_count total_playtime  \\\n",
       "id                                \n",
       "0             48        2:55:36   \n",
       "1            340        2:17:33   \n",
       "2            297        2:02:49   \n",
       "3            427        2:14:05   \n",
       "4            247        2:07:48   \n",
       "\n",
       "                                             tags  \\\n",
       "id                                                  \n",
       "0   Soundtrack, Soul, Lo-Fi, Acid, Relax, vietnam   \n",
       "1                                             NaN   \n",
       "2                                             NaN   \n",
       "3                                             NaN   \n",
       "4                                             NaN   \n",
       "\n",
       "                                                  url  userId        trackIds  \n",
       "id                                                                             \n",
       "0   https://soundcloud.com/winterhihiihiii/sets/lo...    3354       0,1,2,3,4  \n",
       "1   https://soundcloud.com/thang-bui-667476417/set...    3355       5,6,7,8,9  \n",
       "2          https://soundcloud.com/sammmv/sets/vietnam    3356  10,11,12,13,14  \n",
       "3   https://soundcloud.com/minh-t-nguy-n-857855647...    3357  15,16,17,18,19  \n",
       "4   https://soundcloud.com/ngan-hoang-810603610/se...    3358  20,21,22,23,24  "
      ]
     },
     "execution_count": 4,
     "metadata": {},
     "output_type": "execute_result"
    }
   ],
   "source": [
    "playlist_df = pd.read_csv('playlist.csv')\n",
    "playlist_df = playlist_df.set_index('id')\n",
    "\n",
    "rows, cols = playlist_df.shape\n",
    "print('Number of Rows: ', rows)\n",
    "print('Number of Columns: ', cols)\n",
    "playlist_df.head()"
   ]
  },
  {
   "attachments": {},
   "cell_type": "markdown",
   "id": "4bb54704",
   "metadata": {},
   "source": [
    "---"
   ]
  },
  {
   "cell_type": "code",
   "execution_count": 5,
   "id": "7ba2f21d",
   "metadata": {},
   "outputs": [
    {
     "name": "stdout",
     "output_type": "stream",
     "text": [
      "Number of Rows:  4530\n",
      "Number of Columns:  9\n"
     ]
    },
    {
     "data": {
      "text/html": [
       "<div>\n",
       "<style scoped>\n",
       "    .dataframe tbody tr th:only-of-type {\n",
       "        vertical-align: middle;\n",
       "    }\n",
       "\n",
       "    .dataframe tbody tr th {\n",
       "        vertical-align: top;\n",
       "    }\n",
       "\n",
       "    .dataframe thead th {\n",
       "        text-align: right;\n",
       "    }\n",
       "</style>\n",
       "<table border=\"1\" class=\"dataframe\">\n",
       "  <thead>\n",
       "    <tr style=\"text-align: right;\">\n",
       "      <th></th>\n",
       "      <th>title</th>\n",
       "      <th>upload_date</th>\n",
       "      <th>plays_count</th>\n",
       "      <th>likes_count</th>\n",
       "      <th>reposts_count</th>\n",
       "      <th>comments_count</th>\n",
       "      <th>tags</th>\n",
       "      <th>userId</th>\n",
       "      <th>url</th>\n",
       "    </tr>\n",
       "    <tr>\n",
       "      <th>id</th>\n",
       "      <th></th>\n",
       "      <th></th>\n",
       "      <th></th>\n",
       "      <th></th>\n",
       "      <th></th>\n",
       "      <th></th>\n",
       "      <th></th>\n",
       "      <th></th>\n",
       "      <th></th>\n",
       "    </tr>\n",
       "  </thead>\n",
       "  <tbody>\n",
       "    <tr>\n",
       "      <th>0</th>\n",
       "      <td>Đi đâu chẳng thấy - Summer Vee</td>\n",
       "      <td>8 September 2019</td>\n",
       "      <td>2859429</td>\n",
       "      <td>34615</td>\n",
       "      <td>878</td>\n",
       "      <td>1438</td>\n",
       "      <td>Indie</td>\n",
       "      <td>0</td>\n",
       "      <td>https://soundcloud.com/hueninh2012/di-dau-chan...</td>\n",
       "    </tr>\n",
       "    <tr>\n",
       "      <th>1</th>\n",
       "      <td>Ai biết - WEAN</td>\n",
       "      <td>1 September 2019</td>\n",
       "      <td>7417706</td>\n",
       "      <td>62050</td>\n",
       "      <td>2045</td>\n",
       "      <td>1026</td>\n",
       "      <td>NaN</td>\n",
       "      <td>1</td>\n",
       "      <td>https://soundcloud.com/nguyen-pham-phuong-anh-...</td>\n",
       "    </tr>\n",
       "    <tr>\n",
       "      <th>2</th>\n",
       "      <td>Nhỏ trên hạnh phúc...</td>\n",
       "      <td>22 March 2019</td>\n",
       "      <td>722587</td>\n",
       "      <td>4501</td>\n",
       "      <td>91</td>\n",
       "      <td>136</td>\n",
       "      <td>Lo-Fi</td>\n",
       "      <td>2</td>\n",
       "      <td>https://soundcloud.com/chris-hoang-2412/nho-tr...</td>\n",
       "    </tr>\n",
       "    <tr>\n",
       "      <th>3</th>\n",
       "      <td>Kina - get you the moon (ft. Snow)</td>\n",
       "      <td>14 March 2018</td>\n",
       "      <td>64441358</td>\n",
       "      <td>881570</td>\n",
       "      <td>19862</td>\n",
       "      <td>25090</td>\n",
       "      <td>Indie, love</td>\n",
       "      <td>3</td>\n",
       "      <td>https://soundcloud.com/kinabeats/kina-get-you-...</td>\n",
       "    </tr>\n",
       "    <tr>\n",
       "      <th>4</th>\n",
       "      <td>First Date (out on spotify)</td>\n",
       "      <td>21 April 2018</td>\n",
       "      <td>4140664</td>\n",
       "      <td>53978</td>\n",
       "      <td>1744</td>\n",
       "      <td>2013</td>\n",
       "      <td>&lt;3, lofi, Hip-hop &amp;Rap, cute, jazz, kawaii, de...</td>\n",
       "      <td>4</td>\n",
       "      <td>https://soundcloud.com/fradical/first-date</td>\n",
       "    </tr>\n",
       "  </tbody>\n",
       "</table>\n",
       "</div>"
      ],
      "text/plain": [
       "                                 title       upload_date  plays_count  \\\n",
       "id                                                                      \n",
       "0       Đi đâu chẳng thấy - Summer Vee  8 September 2019      2859429   \n",
       "1                       Ai biết - WEAN  1 September 2019      7417706   \n",
       "2             Nhỏ trên hạnh phúc...     22 March 2019       722587   \n",
       "3   Kina - get you the moon (ft. Snow)     14 March 2018     64441358   \n",
       "4          First Date (out on spotify)     21 April 2018      4140664   \n",
       "\n",
       "    likes_count  reposts_count comments_count  \\\n",
       "id                                              \n",
       "0         34615            878           1438   \n",
       "1         62050           2045           1026   \n",
       "2          4501             91            136   \n",
       "3        881570          19862          25090   \n",
       "4         53978           1744           2013   \n",
       "\n",
       "                                                 tags  userId  \\\n",
       "id                                                              \n",
       "0                                               Indie       0   \n",
       "1                                                 NaN       1   \n",
       "2                                               Lo-Fi       2   \n",
       "3                                         Indie, love       3   \n",
       "4   <3, lofi, Hip-hop &Rap, cute, jazz, kawaii, de...       4   \n",
       "\n",
       "                                                  url  \n",
       "id                                                     \n",
       "0   https://soundcloud.com/hueninh2012/di-dau-chan...  \n",
       "1   https://soundcloud.com/nguyen-pham-phuong-anh-...  \n",
       "2   https://soundcloud.com/chris-hoang-2412/nho-tr...  \n",
       "3   https://soundcloud.com/kinabeats/kina-get-you-...  \n",
       "4          https://soundcloud.com/fradical/first-date  "
      ]
     },
     "execution_count": 5,
     "metadata": {},
     "output_type": "execute_result"
    }
   ],
   "source": [
    "track_df = pd.read_csv('track.csv')\n",
    "track_df = track_df.set_index('id')\n",
    "\n",
    "rows, cols = track_df.shape\n",
    "print('Number of Rows: ', rows)\n",
    "print('Number of Columns: ', cols)\n",
    "track_df.head()"
   ]
  },
  {
   "attachments": {},
   "cell_type": "markdown",
   "id": "6cb39db4",
   "metadata": {},
   "source": [
    "---"
   ]
  },
  {
   "attachments": {},
   "cell_type": "markdown",
   "id": "357e92d3",
   "metadata": {},
   "source": [
    "# Does the data have duplicated rows?"
   ]
  },
  {
   "cell_type": "code",
   "execution_count": 6,
   "id": "dbdeb08a",
   "metadata": {},
   "outputs": [
    {
     "name": "stdout",
     "output_type": "stream",
     "text": [
      "Number of duplicated index of User DataFrame:  0\n",
      "Number of duplicated index of Playlist DataFrame:  0\n",
      "Number of duplicated index of Track DataFrame:  0\n"
     ]
    }
   ],
   "source": [
    "user_indx_dup = user_df.index.duplicated().sum()\n",
    "playlist_indx_dup = playlist_df.index.duplicated().sum()\n",
    "track_index_dup = track_df.index.duplicated().sum()\n",
    "\n",
    "print(\"Number of duplicated index of User DataFrame: \", user_indx_dup)\n",
    "print(\"Number of duplicated index of Playlist DataFrame: \", playlist_indx_dup)\n",
    "print(\"Number of duplicated index of Track DataFrame: \", track_index_dup)"
   ]
  },
  {
   "attachments": {},
   "cell_type": "markdown",
   "id": "25358d32",
   "metadata": {},
   "source": [
    "*As you can see, there is no duplicated index from these DataFrames.*"
   ]
  },
  {
   "attachments": {},
   "cell_type": "markdown",
   "id": "6f6dfcc3",
   "metadata": {},
   "source": [
    "Next we check for duplicated row"
   ]
  },
  {
   "cell_type": "code",
   "execution_count": 7,
   "id": "f4d80297",
   "metadata": {},
   "outputs": [
    {
     "name": "stdout",
     "output_type": "stream",
     "text": [
      "Number of Duplicated Rows of User DataFrame:  0\n",
      "Number of Duplicated Rows of Playlist DataFrame:  21\n",
      "Number of Duplicated Rows of Track DataFrame:  0\n"
     ]
    }
   ],
   "source": [
    "user_dup = user_df.duplicated().sum()\n",
    "playlist_dup = playlist_df.duplicated().sum()\n",
    "track_dup = track_df.duplicated().sum()\n",
    "\n",
    "print('Number of Duplicated Rows of User DataFrame: ', user_dup)\n",
    "print('Number of Duplicated Rows of Playlist DataFrame: ', playlist_dup)\n",
    "print('Number of Duplicated Rows of Track DataFrame: ', user_dup)"
   ]
  },
  {
   "attachments": {},
   "cell_type": "markdown",
   "id": "13069846",
   "metadata": {},
   "source": [
    "*As you can see, there is 21 duplicated data from Playlist DataFrame.*\n",
    "\n",
    "Now we drop all duplicated data from Playlist DataFrame"
   ]
  },
  {
   "cell_type": "code",
   "execution_count": 8,
   "id": "acb6b1e9",
   "metadata": {},
   "outputs": [],
   "source": [
    "playlist_df = playlist_df.drop_duplicates()"
   ]
  },
  {
   "cell_type": "code",
   "execution_count": 9,
   "id": "5c20f5a3",
   "metadata": {},
   "outputs": [
    {
     "name": "stdout",
     "output_type": "stream",
     "text": [
      "Number of Duplicated Rows of Playlist DataFrame:  0\n"
     ]
    }
   ],
   "source": [
    "playlist_dup = playlist_df.duplicated().sum()\n",
    "print('Number of Duplicated Rows of Playlist DataFrame: ', playlist_dup)"
   ]
  },
  {
   "attachments": {},
   "cell_type": "markdown",
   "id": "4eccac16",
   "metadata": {},
   "source": [
    "*Now there is no duplicated data.*"
   ]
  },
  {
   "attachments": {},
   "cell_type": "markdown",
   "id": "eddcb82a",
   "metadata": {},
   "source": [
    "---"
   ]
  },
  {
   "attachments": {},
   "cell_type": "markdown",
   "id": "775b0fdb",
   "metadata": {},
   "source": [
    "# Initial Datatypes of DataFrames"
   ]
  },
  {
   "attachments": {},
   "cell_type": "markdown",
   "id": "dae696c6",
   "metadata": {},
   "source": [
    "1. User_DataFrame (user_df)"
   ]
  },
  {
   "cell_type": "code",
   "execution_count": 10,
   "id": "caabc64b",
   "metadata": {
    "scrolled": true
   },
   "outputs": [
    {
     "data": {
      "text/plain": [
       "display_name       object\n",
       "followers_count     int64\n",
       "tracks_count        int64\n",
       "url                object\n",
       "dtype: object"
      ]
     },
     "execution_count": 10,
     "metadata": {},
     "output_type": "execute_result"
    }
   ],
   "source": [
    "user_df.dtypes"
   ]
  },
  {
   "attachments": {},
   "cell_type": "markdown",
   "id": "5b7801fe",
   "metadata": {},
   "source": [
    "---"
   ]
  },
  {
   "attachments": {},
   "cell_type": "markdown",
   "id": "35f94bd7",
   "metadata": {},
   "source": [
    "2. Playlist_DataFrame (playlist_df)"
   ]
  },
  {
   "cell_type": "code",
   "execution_count": 11,
   "id": "0007307d",
   "metadata": {},
   "outputs": [
    {
     "data": {
      "text/plain": [
       "title             object\n",
       "create_date       object\n",
       "likes_count        int64\n",
       "reposts_count      int64\n",
       "tracks_count       int64\n",
       "total_playtime    object\n",
       "tags              object\n",
       "url               object\n",
       "userId             int64\n",
       "trackIds          object\n",
       "dtype: object"
      ]
     },
     "execution_count": 11,
     "metadata": {},
     "output_type": "execute_result"
    }
   ],
   "source": [
    "playlist_df.dtypes"
   ]
  },
  {
   "attachments": {},
   "cell_type": "markdown",
   "id": "e88c487e",
   "metadata": {},
   "source": [
    "We have to:\n",
    "\n",
    "- *create_date changes from object to datetime*\n",
    "\n",
    "\n",
    "- *total_playtime changes from object to datetime*"
   ]
  },
  {
   "attachments": {},
   "cell_type": "markdown",
   "id": "a340b961",
   "metadata": {},
   "source": [
    "---"
   ]
  },
  {
   "attachments": {},
   "cell_type": "markdown",
   "id": "f0c4a964",
   "metadata": {},
   "source": [
    "3. Track_DataFrame (track_df)"
   ]
  },
  {
   "cell_type": "code",
   "execution_count": 12,
   "id": "a0f36189",
   "metadata": {},
   "outputs": [
    {
     "data": {
      "text/plain": [
       "title             object\n",
       "upload_date       object\n",
       "plays_count        int64\n",
       "likes_count        int64\n",
       "reposts_count      int64\n",
       "comments_count    object\n",
       "tags              object\n",
       "userId             int64\n",
       "url               object\n",
       "dtype: object"
      ]
     },
     "execution_count": 12,
     "metadata": {},
     "output_type": "execute_result"
    }
   ],
   "source": [
    "track_df.dtypes"
   ]
  },
  {
   "attachments": {},
   "cell_type": "markdown",
   "id": "32a6cae0",
   "metadata": {},
   "source": [
    "We have to:\n",
    "\n",
    "- *create_date changes from object to datetime*\n",
    "\n",
    "\n",
    "- *total_playtime changes from object to datetime*"
   ]
  },
  {
   "attachments": {},
   "cell_type": "markdown",
   "id": "bc734e66",
   "metadata": {},
   "source": [
    "---"
   ]
  },
  {
   "attachments": {},
   "cell_type": "markdown",
   "id": "60f9888d",
   "metadata": {},
   "source": [
    "# Preprocessing"
   ]
  },
  {
   "attachments": {},
   "cell_type": "markdown",
   "id": "0e0f9c94",
   "metadata": {},
   "source": [
    "1. playlist_df"
   ]
  },
  {
   "cell_type": "code",
   "execution_count": 13,
   "id": "74e38b1b",
   "metadata": {},
   "outputs": [],
   "source": [
    "# Create_date changes from object to datetime\n",
    "playlist_df['create_date'] = pd.to_datetime(playlist_df['create_date'], infer_datetime_format = True)"
   ]
  },
  {
   "cell_type": "code",
   "execution_count": 14,
   "id": "6ada560f",
   "metadata": {},
   "outputs": [],
   "source": [
    "# total_playtime changes from object to datetime\n",
    "playlist_df['total_playtime'] = pd.to_datetime(playlist_df['total_playtime'], format = '%H:%M:%S', errors = 'coerce')"
   ]
  },
  {
   "cell_type": "code",
   "execution_count": 15,
   "id": "ce05ae79",
   "metadata": {},
   "outputs": [
    {
     "data": {
      "text/plain": [
       "title                     object\n",
       "create_date       datetime64[ns]\n",
       "likes_count                int64\n",
       "reposts_count              int64\n",
       "tracks_count               int64\n",
       "total_playtime    datetime64[ns]\n",
       "tags                      object\n",
       "url                       object\n",
       "userId                     int64\n",
       "trackIds                  object\n",
       "dtype: object"
      ]
     },
     "execution_count": 15,
     "metadata": {},
     "output_type": "execute_result"
    }
   ],
   "source": [
    "playlist_df.dtypes"
   ]
  },
  {
   "attachments": {},
   "cell_type": "markdown",
   "id": "a21ce466",
   "metadata": {},
   "source": [
    "2. track_df"
   ]
  },
  {
   "cell_type": "code",
   "execution_count": 16,
   "id": "94358996",
   "metadata": {},
   "outputs": [],
   "source": [
    "# After checking the column upload_date, there are many format \"Posted on + Day+ Month + Year\", different from almost value called \"Day + Month + Year\"\n",
    "# Therefore, we remove \"Posted on\" in order to keep the format of column upload_date\n",
    "track_df['upload_date'] = track_df.apply(lambda row: row['upload_date'].replace('Posted on ', ''), axis = 1)"
   ]
  },
  {
   "cell_type": "code",
   "execution_count": 17,
   "id": "45cf0c67",
   "metadata": {},
   "outputs": [],
   "source": [
    "# Finally, we can  change the datatype of column upload_date to datetime now\n",
    "track_df['upload_date'] = pd.to_datetime(track_df['upload_date'], infer_datetime_format = True)"
   ]
  },
  {
   "cell_type": "code",
   "execution_count": 18,
   "id": "6ec304ad",
   "metadata": {},
   "outputs": [],
   "source": [
    "track_df = track_df.replace('C', np.NaN)\n",
    "track_df['comments_count'] = pd.to_numeric(track_df['comments_count'])"
   ]
  },
  {
   "cell_type": "code",
   "execution_count": 19,
   "id": "5c5209ee",
   "metadata": {},
   "outputs": [
    {
     "data": {
      "text/plain": [
       "title                     object\n",
       "upload_date       datetime64[ns]\n",
       "plays_count                int64\n",
       "likes_count                int64\n",
       "reposts_count              int64\n",
       "comments_count           float64\n",
       "tags                      object\n",
       "userId                     int64\n",
       "url                       object\n",
       "dtype: object"
      ]
     },
     "execution_count": 19,
     "metadata": {},
     "output_type": "execute_result"
    }
   ],
   "source": [
    "track_df.dtypes"
   ]
  },
  {
   "attachments": {},
   "cell_type": "markdown",
   "id": "a7c7330f",
   "metadata": {},
   "source": [
    "3. user_df"
   ]
  },
  {
   "cell_type": "code",
   "execution_count": 20,
   "id": "33de3efc",
   "metadata": {},
   "outputs": [
    {
     "data": {
      "text/plain": [
       "display_name       object\n",
       "followers_count     int64\n",
       "tracks_count        int64\n",
       "url                object\n",
       "dtype: object"
      ]
     },
     "execution_count": 20,
     "metadata": {},
     "output_type": "execute_result"
    }
   ],
   "source": [
    "user_df.dtypes"
   ]
  },
  {
   "attachments": {},
   "cell_type": "markdown",
   "id": "42f32f82",
   "metadata": {},
   "source": [
    "Now we already preprocessed Data"
   ]
  },
  {
   "attachments": {},
   "cell_type": "markdown",
   "id": "73eef845",
   "metadata": {},
   "source": [
    "---"
   ]
  },
  {
   "attachments": {},
   "cell_type": "markdown",
   "id": "4027154e",
   "metadata": {},
   "source": [
    "# Missing Data"
   ]
  },
  {
   "cell_type": "code",
   "execution_count": 21,
   "id": "6e632ad7",
   "metadata": {},
   "outputs": [
    {
     "data": {
      "text/plain": [
       "display_name       0\n",
       "followers_count    0\n",
       "tracks_count       0\n",
       "url                0\n",
       "dtype: int64"
      ]
     },
     "execution_count": 21,
     "metadata": {},
     "output_type": "execute_result"
    }
   ],
   "source": [
    "user_df.isnull().sum()"
   ]
  },
  {
   "cell_type": "code",
   "execution_count": 22,
   "id": "f6bc0079",
   "metadata": {},
   "outputs": [
    {
     "data": {
      "text/plain": [
       "title               0\n",
       "create_date         0\n",
       "likes_count         0\n",
       "reposts_count       0\n",
       "tracks_count        0\n",
       "total_playtime    178\n",
       "tags              900\n",
       "url                 0\n",
       "userId              0\n",
       "trackIds           98\n",
       "dtype: int64"
      ]
     },
     "execution_count": 22,
     "metadata": {},
     "output_type": "execute_result"
    }
   ],
   "source": [
    "playlist_df.isnull().sum()"
   ]
  },
  {
   "cell_type": "code",
   "execution_count": 23,
   "id": "60d4572d",
   "metadata": {},
   "outputs": [
    {
     "data": {
      "text/plain": [
       "title               0\n",
       "upload_date         0\n",
       "plays_count         0\n",
       "likes_count         0\n",
       "reposts_count       0\n",
       "comments_count     13\n",
       "tags              644\n",
       "userId              0\n",
       "url                 0\n",
       "dtype: int64"
      ]
     },
     "execution_count": 23,
     "metadata": {},
     "output_type": "execute_result"
    }
   ],
   "source": [
    "track_df.isnull().sum()"
   ]
  },
  {
   "attachments": {},
   "cell_type": "markdown",
   "id": "76af81ee",
   "metadata": {},
   "source": [
    "We have observed and decided that there are a little bit of data with incorrect format, so we set those values are None.  \n",
    "There are just only 178 total_playtime and 13 comments_count incorrect format.  \n",
    "Also, tags is optional for user so each track or each playlist is not necessary to include tag.  \n",
    "Therefore, it would not effect on our Exploratory Data Analysis"
   ]
  },
  {
   "attachments": {},
   "cell_type": "markdown",
   "id": "62ffe320",
   "metadata": {},
   "source": [
    "---"
   ]
  },
  {
   "attachments": {},
   "cell_type": "markdown",
   "id": "68b4faeb",
   "metadata": {},
   "source": [
    "# Outliers Removal"
   ]
  },
  {
   "attachments": {},
   "cell_type": "markdown",
   "id": "9212d239",
   "metadata": {},
   "source": [
    "### Check user.csv file"
   ]
  },
  {
   "cell_type": "code",
   "execution_count": 24,
   "id": "d4c8fc28",
   "metadata": {},
   "outputs": [
    {
     "data": {
      "text/plain": [
       "<AxesSubplot:>"
      ]
     },
     "execution_count": 24,
     "metadata": {},
     "output_type": "execute_result"
    },
    {
     "data": {
      "image/png": "[encoded data removed]",
      "text/plain": [
       "<Figure size 640x480 with 1 Axes>"
      ]
     },
     "metadata": {},
     "output_type": "display_data"
    }
   ],
   "source": [
    "# followers_count check(in user.csv file)\n",
    "user_df['followers_count'].plot(kind='box')"
   ]
  },
  {
   "cell_type": "code",
   "execution_count": 25,
   "id": "2221e6c5",
   "metadata": {},
   "outputs": [
    {
     "data": {
      "text/plain": [
       "<AxesSubplot:>"
      ]
     },
     "execution_count": 25,
     "metadata": {},
     "output_type": "execute_result"
    },
    {
     "data": {
      "image/png": "[encoded data removed]",
      "text/plain": [
       "<Figure size 640x480 with 1 Axes>"
      ]
     },
     "metadata": {},
     "output_type": "display_data"
    }
   ],
   "source": [
    "# tracks_count check(in user.csv file)\n",
    "user_df['tracks_count'].plot(kind='box')"
   ]
  },
  {
   "attachments": {},
   "cell_type": "markdown",
   "id": "3e2e8659",
   "metadata": {},
   "source": [
    "### Check playlist.csv file"
   ]
  },
  {
   "cell_type": "code",
   "execution_count": 26,
   "id": "abd279a0",
   "metadata": {},
   "outputs": [
    {
     "data": {
      "text/plain": [
       "<AxesSubplot:>"
      ]
     },
     "execution_count": 26,
     "metadata": {},
     "output_type": "execute_result"
    },
    {
     "data": {
      "image/png": "[encoded data removed]",
      "text/plain": [
       "<Figure size 640x480 with 1 Axes>"
      ]
     },
     "metadata": {},
     "output_type": "display_data"
    }
   ],
   "source": [
    "# likes_count check(in playlist.csv file)\n",
    "playlist_df['likes_count'].plot(kind='box', vert = False)"
   ]
  },
  {
   "cell_type": "code",
   "execution_count": 27,
   "id": "7f4a81f7",
   "metadata": {},
   "outputs": [
    {
     "data": {
      "text/plain": [
       "<AxesSubplot:>"
      ]
     },
     "execution_count": 27,
     "metadata": {},
     "output_type": "execute_result"
    },
    {
     "data": {
      "image/png": "[encoded data removed]",
      "text/plain": [
       "<Figure size 640x480 with 1 Axes>"
      ]
     },
     "metadata": {},
     "output_type": "display_data"
    }
   ],
   "source": [
    "# reposts_count check(in playlist.csv file)\n",
    "playlist_df['reposts_count'].plot(kind='box', vert = False)"
   ]
  },
  {
   "cell_type": "code",
   "execution_count": 28,
   "id": "24b65c02",
   "metadata": {},
   "outputs": [
    {
     "data": {
      "text/plain": [
       "<AxesSubplot:>"
      ]
     },
     "execution_count": 28,
     "metadata": {},
     "output_type": "execute_result"
    },
    {
     "data": {
      "image/png": "[encoded data removed]",
      "text/plain": [
       "<Figure size 640x480 with 1 Axes>"
      ]
     },
     "metadata": {},
     "output_type": "display_data"
    }
   ],
   "source": [
    "# tracks_count check(in playlist.csv file)\n",
    "playlist_df['tracks_count'].plot(kind='box', vert = False)"
   ]
  },
  {
   "attachments": {},
   "cell_type": "markdown",
   "id": "59250223",
   "metadata": {},
   "source": [
    "### Check track.csv file"
   ]
  },
  {
   "cell_type": "code",
   "execution_count": 29,
   "id": "a26b1ada",
   "metadata": {},
   "outputs": [
    {
     "data": {
      "text/plain": [
       "<AxesSubplot:>"
      ]
     },
     "execution_count": 29,
     "metadata": {},
     "output_type": "execute_result"
    },
    {
     "data": {
      "image/png": "[encoded data removed]",
      "text/plain": [
       "<Figure size 640x480 with 1 Axes>"
      ]
     },
     "metadata": {},
     "output_type": "display_data"
    }
   ],
   "source": [
    "# plays_count check(in track.csv file)\n",
    "track_df['plays_count'].plot(kind='box')"
   ]
  },
  {
   "cell_type": "code",
   "execution_count": 30,
   "id": "a878d343",
   "metadata": {},
   "outputs": [
    {
     "data": {
      "text/plain": [
       "<AxesSubplot:>"
      ]
     },
     "execution_count": 30,
     "metadata": {},
     "output_type": "execute_result"
    },
    {
     "data": {
      "image/png": "[encoded data removed]",
      "text/plain": [
       "<Figure size 640x480 with 1 Axes>"
      ]
     },
     "metadata": {},
     "output_type": "display_data"
    }
   ],
   "source": [
    "# likes_count check(in track.csv file)\n",
    "track_df['likes_count'].plot(kind='box')"
   ]
  },
  {
   "cell_type": "code",
   "execution_count": 31,
   "id": "984542bc",
   "metadata": {},
   "outputs": [
    {
     "data": {
      "text/plain": [
       "<AxesSubplot:>"
      ]
     },
     "execution_count": 31,
     "metadata": {},
     "output_type": "execute_result"
    },
    {
     "data": {
      "image/png": "[encoded data removed]",
      "text/plain": [
       "<Figure size 640x480 with 1 Axes>"
      ]
     },
     "metadata": {},
     "output_type": "display_data"
    }
   ],
   "source": [
    "# reposts_count check(in track.csv file)\n",
    "track_df['reposts_count'].plot(kind='box', vert = False)"
   ]
  },
  {
   "cell_type": "code",
   "execution_count": 32,
   "id": "dcce4151",
   "metadata": {},
   "outputs": [
    {
     "data": {
      "text/plain": [
       "<AxesSubplot:>"
      ]
     },
     "execution_count": 32,
     "metadata": {},
     "output_type": "execute_result"
    },
    {
     "data": {
      "image/png": "[encoded data removed]",
      "text/plain": [
       "<Figure size 640x480 with 1 Axes>"
      ]
     },
     "metadata": {},
     "output_type": "display_data"
    }
   ],
   "source": [
    "# comments_count check(in track.csv file)\n",
    "track_df['comments_count'].plot(kind='box', vert = False)"
   ]
  },
  {
   "attachments": {},
   "cell_type": "markdown",
   "id": "e4e82be1",
   "metadata": {},
   "source": [
    "All the Data we have parsed from the SoundCloud website was all reasonable, there is no outlier which is irrational for Statistics."
   ]
  },
  {
   "attachments": {},
   "cell_type": "markdown",
   "id": "3efd849e",
   "metadata": {},
   "source": [
    "---"
   ]
  },
  {
   "attachments": {},
   "cell_type": "markdown",
   "id": "a76e2281",
   "metadata": {},
   "source": [
    "# Questioning"
   ]
  },
  {
   "attachments": {},
   "cell_type": "markdown",
   "id": "5424d0bc",
   "metadata": {},
   "source": [
    "### User information:\n",
    "- id: ID của user\n",
    "- display_name: tên hiển thị của user\n",
    "- followers_count: số lượt follow của user\n",
    "- tracks_count: số track user đã tạo\n",
    "- url: đường dẫn của user "
   ]
  },
  {
   "attachments": {},
   "cell_type": "markdown",
   "id": "52918fce",
   "metadata": {},
   "source": [
    "### Playlist information:\n",
    "- id: ID của playlist\n",
    "- title: tên playlist\n",
    "- created_date: ngày tạo playlist\n",
    "- likes_count: số lượt thích của playlist\n",
    "- reposts_count: số lượt repost của playlist\n",
    "- tracks_count: số lượng track của playlist\n",
    "- total_playtime: thời gian chạy playlist (đơn vị ms)\n",
    "- tags: các tags tìm kiếm playlist\n",
    "- url: Đường dẫn của playlist\n",
    "- userId: ID user của playlist\n",
    "- trackIds: tên user của playlist"
   ]
  },
  {
   "attachments": {},
   "cell_type": "markdown",
   "id": "9d24546e",
   "metadata": {},
   "source": [
    "### Track information:\n",
    "- id: ID của track\n",
    "- title: tên track\n",
    "- upload_date: ngày upload track\n",
    "- plays_count: số lượt nghe của track\n",
    "- likes_count: số lượt thích của track\n",
    "- reposts_count: số lượt repost của track\n",
    "- comments_count: số lượt comments của track\n",
    "- tags: các tags tìm kiếm của track\n",
    "- userId: ID user của track\n",
    "- url: đường dẫn của track"
   ]
  },
  {
   "attachments": {},
   "cell_type": "markdown",
   "id": "1bea0f13",
   "metadata": {},
   "source": [
    "---"
   ]
  },
  {
   "attachments": {},
   "cell_type": "markdown",
   "id": "26c85a9c",
   "metadata": {},
   "source": [
    "**Question: Correlation between number of tracks released and number of followers of one User**"
   ]
  },
  {
   "cell_type": "code",
   "execution_count": 33,
   "id": "1499aa46",
   "metadata": {},
   "outputs": [
    {
     "data": {
      "image/png": "[encoded data removed]",
      "text/plain": [
       "<Figure size 640x480 with 1 Axes>"
      ]
     },
     "metadata": {},
     "output_type": "display_data"
    }
   ],
   "source": [
    "valid_user = user_df[user_df['tracks_count'] <= 1000]\n",
    "x = valid_user['followers_count']\n",
    "y = valid_user['tracks_count']\n",
    "plt.scatter(y = valid_user['tracks_count'], x = valid_user['followers_count'])\n",
    "plt.ylabel('tracks_count')\n",
    "plt.xlabel('followers_count')\n",
    "plt.xlim(100000, 11000000)\n",
    "plt.title('Graph of Followers and Number of Tracks of One Playlist')\n",
    "plt.show()"
   ]
  },
  {
   "attachments": {},
   "cell_type": "markdown",
   "id": "f44ce038",
   "metadata": {},
   "source": [
    "Overally, we could see number of tracks released does not impact on number of followers.  \n",
    "First, SoundCloud is an open platform for everyone to upload Music, anyone could upload it, especially, underground or amatuer artist.  \n",
    "Secondly, In reality, this makes no sense that the more you upload, the more followers you get."
   ]
  },
  {
   "attachments": {},
   "cell_type": "markdown",
   "id": "0489ef68",
   "metadata": {},
   "source": [
    "**Question: Are most followers-artists famous singers, prestigious record producers**"
   ]
  },
  {
   "cell_type": "code",
   "execution_count": 34,
   "id": "ad6d40f2",
   "metadata": {
    "scrolled": true
   },
   "outputs": [
    {
     "data": {
      "text/html": [
       "<div>\n",
       "<style scoped>\n",
       "    .dataframe tbody tr th:only-of-type {\n",
       "        vertical-align: middle;\n",
       "    }\n",
       "\n",
       "    .dataframe tbody tr th {\n",
       "        vertical-align: top;\n",
       "    }\n",
       "\n",
       "    .dataframe thead th {\n",
       "        text-align: right;\n",
       "    }\n",
       "</style>\n",
       "<table border=\"1\" class=\"dataframe\">\n",
       "  <thead>\n",
       "    <tr style=\"text-align: right;\">\n",
       "      <th></th>\n",
       "      <th>display_name</th>\n",
       "      <th>followers_count</th>\n",
       "      <th>tracks_count</th>\n",
       "      <th>url</th>\n",
       "    </tr>\n",
       "    <tr>\n",
       "      <th>id</th>\n",
       "      <th></th>\n",
       "      <th></th>\n",
       "      <th></th>\n",
       "      <th></th>\n",
       "    </tr>\n",
       "  </thead>\n",
       "  <tbody>\n",
       "    <tr>\n",
       "      <th>896</th>\n",
       "      <td>Future</td>\n",
       "      <td>10111739</td>\n",
       "      <td>631</td>\n",
       "      <td>https://soundcloud.com/futureisnow</td>\n",
       "    </tr>\n",
       "    <tr>\n",
       "      <th>1772</th>\n",
       "      <td>Big Sean</td>\n",
       "      <td>9517111</td>\n",
       "      <td>229</td>\n",
       "      <td>https://soundcloud.com/bigsean-1</td>\n",
       "    </tr>\n",
       "    <tr>\n",
       "      <th>664</th>\n",
       "      <td>Def Jam Recordings</td>\n",
       "      <td>8498855</td>\n",
       "      <td>76</td>\n",
       "      <td>https://soundcloud.com/defjam</td>\n",
       "    </tr>\n",
       "    <tr>\n",
       "      <th>1343</th>\n",
       "      <td>YMCMB-Official</td>\n",
       "      <td>8465146</td>\n",
       "      <td>66</td>\n",
       "      <td>https://soundcloud.com/ymcmbofficial</td>\n",
       "    </tr>\n",
       "    <tr>\n",
       "      <th>1491</th>\n",
       "      <td>WALE</td>\n",
       "      <td>8323978</td>\n",
       "      <td>355</td>\n",
       "      <td>https://soundcloud.com/walefolarin</td>\n",
       "    </tr>\n",
       "    <tr>\n",
       "      <th>1746</th>\n",
       "      <td>Shady Records</td>\n",
       "      <td>8151845</td>\n",
       "      <td>81</td>\n",
       "      <td>https://soundcloud.com/shadyrecords</td>\n",
       "    </tr>\n",
       "    <tr>\n",
       "      <th>2720</th>\n",
       "      <td>Lana Del Rey</td>\n",
       "      <td>8112836</td>\n",
       "      <td>278</td>\n",
       "      <td>https://soundcloud.com/lana-del-rey</td>\n",
       "    </tr>\n",
       "    <tr>\n",
       "      <th>1760</th>\n",
       "      <td>B.o.B</td>\n",
       "      <td>8052012</td>\n",
       "      <td>303</td>\n",
       "      <td>https://soundcloud.com/bobatl</td>\n",
       "    </tr>\n",
       "    <tr>\n",
       "      <th>2096</th>\n",
       "      <td>Fool's Gold Records</td>\n",
       "      <td>7917342</td>\n",
       "      <td>1171</td>\n",
       "      <td>https://soundcloud.com/foolsgoldrecs</td>\n",
       "    </tr>\n",
       "    <tr>\n",
       "      <th>1181</th>\n",
       "      <td>Calvin Harris</td>\n",
       "      <td>7177259</td>\n",
       "      <td>345</td>\n",
       "      <td>https://soundcloud.com/calvinharris</td>\n",
       "    </tr>\n",
       "    <tr>\n",
       "      <th>1183</th>\n",
       "      <td>Diplo</td>\n",
       "      <td>7106392</td>\n",
       "      <td>591</td>\n",
       "      <td>https://soundcloud.com/diplo</td>\n",
       "    </tr>\n",
       "    <tr>\n",
       "      <th>1092</th>\n",
       "      <td>Ellie Goulding</td>\n",
       "      <td>6735764</td>\n",
       "      <td>251</td>\n",
       "      <td>https://soundcloud.com/elliegoulding</td>\n",
       "    </tr>\n",
       "    <tr>\n",
       "      <th>720</th>\n",
       "      <td>Skrillex</td>\n",
       "      <td>6513252</td>\n",
       "      <td>111</td>\n",
       "      <td>https://soundcloud.com/skrillex</td>\n",
       "    </tr>\n",
       "    <tr>\n",
       "      <th>993</th>\n",
       "      <td>DILLONFRANCIS</td>\n",
       "      <td>6129676</td>\n",
       "      <td>284</td>\n",
       "      <td>https://soundcloud.com/dillonfrancis</td>\n",
       "    </tr>\n",
       "    <tr>\n",
       "      <th>967</th>\n",
       "      <td>Zeds Dead</td>\n",
       "      <td>6012390</td>\n",
       "      <td>291</td>\n",
       "      <td>https://soundcloud.com/zedsdead</td>\n",
       "    </tr>\n",
       "    <tr>\n",
       "      <th>325</th>\n",
       "      <td>Mad Decent</td>\n",
       "      <td>6009376</td>\n",
       "      <td>852</td>\n",
       "      <td>https://soundcloud.com/maddecent</td>\n",
       "    </tr>\n",
       "    <tr>\n",
       "      <th>1011</th>\n",
       "      <td>Flosstradamus</td>\n",
       "      <td>5873483</td>\n",
       "      <td>133</td>\n",
       "      <td>https://soundcloud.com/flosstradamus</td>\n",
       "    </tr>\n",
       "    <tr>\n",
       "      <th>3672</th>\n",
       "      <td>John Newman</td>\n",
       "      <td>5636630</td>\n",
       "      <td>117</td>\n",
       "      <td>https://soundcloud.com/johnnewmanmusic</td>\n",
       "    </tr>\n",
       "    <tr>\n",
       "      <th>1090</th>\n",
       "      <td>Ella Eyre</td>\n",
       "      <td>5565025</td>\n",
       "      <td>77</td>\n",
       "      <td>https://soundcloud.com/ellaeyre</td>\n",
       "    </tr>\n",
       "    <tr>\n",
       "      <th>2160</th>\n",
       "      <td>RAC</td>\n",
       "      <td>5493602</td>\n",
       "      <td>392</td>\n",
       "      <td>https://soundcloud.com/rac</td>\n",
       "    </tr>\n",
       "    <tr>\n",
       "      <th>1914</th>\n",
       "      <td>BASTILLE</td>\n",
       "      <td>5157029</td>\n",
       "      <td>221</td>\n",
       "      <td>https://soundcloud.com/bastilleuk</td>\n",
       "    </tr>\n",
       "    <tr>\n",
       "      <th>2170</th>\n",
       "      <td>Sub Pop</td>\n",
       "      <td>5002517</td>\n",
       "      <td>889</td>\n",
       "      <td>https://soundcloud.com/subpop</td>\n",
       "    </tr>\n",
       "    <tr>\n",
       "      <th>427</th>\n",
       "      <td>johnlegend</td>\n",
       "      <td>4907157</td>\n",
       "      <td>353</td>\n",
       "      <td>https://soundcloud.com/johnlegend</td>\n",
       "    </tr>\n",
       "    <tr>\n",
       "      <th>2316</th>\n",
       "      <td>Frightened Rabbit</td>\n",
       "      <td>4764787</td>\n",
       "      <td>196</td>\n",
       "      <td>https://soundcloud.com/frightened-rabbit</td>\n",
       "    </tr>\n",
       "    <tr>\n",
       "      <th>1902</th>\n",
       "      <td>Epitaph Records</td>\n",
       "      <td>4500026</td>\n",
       "      <td>271</td>\n",
       "      <td>https://soundcloud.com/epitaph-records</td>\n",
       "    </tr>\n",
       "    <tr>\n",
       "      <th>3775</th>\n",
       "      <td>bluenoterecords</td>\n",
       "      <td>4379061</td>\n",
       "      <td>2</td>\n",
       "      <td>https://soundcloud.com/bluenoterecords</td>\n",
       "    </tr>\n",
       "    <tr>\n",
       "      <th>403</th>\n",
       "      <td>BTS</td>\n",
       "      <td>4375964</td>\n",
       "      <td>140</td>\n",
       "      <td>https://soundcloud.com/bangtan</td>\n",
       "    </tr>\n",
       "    <tr>\n",
       "      <th>1446</th>\n",
       "      <td>AWOLNATION</td>\n",
       "      <td>4281753</td>\n",
       "      <td>122</td>\n",
       "      <td>https://soundcloud.com/awolnation</td>\n",
       "    </tr>\n",
       "    <tr>\n",
       "      <th>962</th>\n",
       "      <td>Zedd</td>\n",
       "      <td>4269305</td>\n",
       "      <td>161</td>\n",
       "      <td>https://soundcloud.com/zedd</td>\n",
       "    </tr>\n",
       "    <tr>\n",
       "      <th>291</th>\n",
       "      <td>Major Lazer</td>\n",
       "      <td>4235499</td>\n",
       "      <td>505</td>\n",
       "      <td>https://soundcloud.com/majorlazer</td>\n",
       "    </tr>\n",
       "    <tr>\n",
       "      <th>362</th>\n",
       "      <td>Porter Robinson</td>\n",
       "      <td>4206755</td>\n",
       "      <td>86</td>\n",
       "      <td>https://soundcloud.com/porter-robinson</td>\n",
       "    </tr>\n",
       "    <tr>\n",
       "      <th>925</th>\n",
       "      <td>Flux Pavilion</td>\n",
       "      <td>4198946</td>\n",
       "      <td>105</td>\n",
       "      <td>https://soundcloud.com/flux-pavilion</td>\n",
       "    </tr>\n",
       "    <tr>\n",
       "      <th>378</th>\n",
       "      <td>Steve Aoki</td>\n",
       "      <td>4166700</td>\n",
       "      <td>1382</td>\n",
       "      <td>https://soundcloud.com/steveaoki</td>\n",
       "    </tr>\n",
       "    <tr>\n",
       "      <th>1945</th>\n",
       "      <td>Civil​Twilight</td>\n",
       "      <td>4064340</td>\n",
       "      <td>100</td>\n",
       "      <td>https://soundcloud.com/civiltwilight</td>\n",
       "    </tr>\n",
       "    <tr>\n",
       "      <th>1900</th>\n",
       "      <td>Tooth &amp; Nail Records</td>\n",
       "      <td>4018149</td>\n",
       "      <td>98</td>\n",
       "      <td>https://soundcloud.com/tooth-and-nail-records</td>\n",
       "    </tr>\n",
       "    <tr>\n",
       "      <th>1150</th>\n",
       "      <td>Krewella</td>\n",
       "      <td>3956265</td>\n",
       "      <td>192</td>\n",
       "      <td>https://soundcloud.com/krewella</td>\n",
       "    </tr>\n",
       "    <tr>\n",
       "      <th>2734</th>\n",
       "      <td>NOISIA</td>\n",
       "      <td>3949196</td>\n",
       "      <td>497</td>\n",
       "      <td>https://soundcloud.com/noisia</td>\n",
       "    </tr>\n",
       "    <tr>\n",
       "      <th>443</th>\n",
       "      <td>R3HAB</td>\n",
       "      <td>3919935</td>\n",
       "      <td>665</td>\n",
       "      <td>https://soundcloud.com/r3hab</td>\n",
       "    </tr>\n",
       "    <tr>\n",
       "      <th>2261</th>\n",
       "      <td>Borgore</td>\n",
       "      <td>3822190</td>\n",
       "      <td>203</td>\n",
       "      <td>https://soundcloud.com/borgore</td>\n",
       "    </tr>\n",
       "    <tr>\n",
       "      <th>1678</th>\n",
       "      <td>nickyromero</td>\n",
       "      <td>3777515</td>\n",
       "      <td>268</td>\n",
       "      <td>https://soundcloud.com/nickyromero</td>\n",
       "    </tr>\n",
       "    <tr>\n",
       "      <th>1302</th>\n",
       "      <td>Datsik</td>\n",
       "      <td>3751663</td>\n",
       "      <td>142</td>\n",
       "      <td>https://soundcloud.com/datsik</td>\n",
       "    </tr>\n",
       "    <tr>\n",
       "      <th>2236</th>\n",
       "      <td>Modestep</td>\n",
       "      <td>3712598</td>\n",
       "      <td>90</td>\n",
       "      <td>https://soundcloud.com/modestep</td>\n",
       "    </tr>\n",
       "    <tr>\n",
       "      <th>1198</th>\n",
       "      <td>Kill The Noise</td>\n",
       "      <td>3694094</td>\n",
       "      <td>127</td>\n",
       "      <td>https://soundcloud.com/killthenoise</td>\n",
       "    </tr>\n",
       "    <tr>\n",
       "      <th>902</th>\n",
       "      <td>OWSLA</td>\n",
       "      <td>3650951</td>\n",
       "      <td>495</td>\n",
       "      <td>https://soundcloud.com/owslaofficial</td>\n",
       "    </tr>\n",
       "    <tr>\n",
       "      <th>1637</th>\n",
       "      <td>Seven Lions</td>\n",
       "      <td>3647634</td>\n",
       "      <td>218</td>\n",
       "      <td>https://soundcloud.com/seven-lions</td>\n",
       "    </tr>\n",
       "    <tr>\n",
       "      <th>1408</th>\n",
       "      <td>Madeleine Peyroux</td>\n",
       "      <td>3576364</td>\n",
       "      <td>155</td>\n",
       "      <td>https://soundcloud.com/madeleinepeyroux</td>\n",
       "    </tr>\n",
       "    <tr>\n",
       "      <th>1563</th>\n",
       "      <td>Valerie June</td>\n",
       "      <td>3521109</td>\n",
       "      <td>97</td>\n",
       "      <td>https://soundcloud.com/valeriejune</td>\n",
       "    </tr>\n",
       "    <tr>\n",
       "      <th>1787</th>\n",
       "      <td>Damian Marley</td>\n",
       "      <td>3478393</td>\n",
       "      <td>142</td>\n",
       "      <td>https://soundcloud.com/damianmarley</td>\n",
       "    </tr>\n",
       "    <tr>\n",
       "      <th>3748</th>\n",
       "      <td>Legacy Recordings</td>\n",
       "      <td>3450991</td>\n",
       "      <td>1</td>\n",
       "      <td>https://soundcloud.com/legacyrecordings</td>\n",
       "    </tr>\n",
       "    <tr>\n",
       "      <th>1687</th>\n",
       "      <td>steveangello</td>\n",
       "      <td>3393548</td>\n",
       "      <td>170</td>\n",
       "      <td>https://soundcloud.com/steveangello</td>\n",
       "    </tr>\n",
       "  </tbody>\n",
       "</table>\n",
       "</div>"
      ],
      "text/plain": [
       "              display_name  followers_count  tracks_count  \\\n",
       "id                                                          \n",
       "896                 Future         10111739           631   \n",
       "1772              Big Sean          9517111           229   \n",
       "664     Def Jam Recordings          8498855            76   \n",
       "1343        YMCMB-Official          8465146            66   \n",
       "1491                  WALE          8323978           355   \n",
       "1746         Shady Records          8151845            81   \n",
       "2720          Lana Del Rey          8112836           278   \n",
       "1760                 B.o.B          8052012           303   \n",
       "2096   Fool's Gold Records          7917342          1171   \n",
       "1181         Calvin Harris          7177259           345   \n",
       "1183                 Diplo          7106392           591   \n",
       "1092        Ellie Goulding          6735764           251   \n",
       "720               Skrillex          6513252           111   \n",
       "993          DILLONFRANCIS          6129676           284   \n",
       "967              Zeds Dead          6012390           291   \n",
       "325             Mad Decent          6009376           852   \n",
       "1011         Flosstradamus          5873483           133   \n",
       "3672           John Newman          5636630           117   \n",
       "1090             Ella Eyre          5565025            77   \n",
       "2160                   RAC          5493602           392   \n",
       "1914              BASTILLE          5157029           221   \n",
       "2170               Sub Pop          5002517           889   \n",
       "427             johnlegend          4907157           353   \n",
       "2316     Frightened Rabbit          4764787           196   \n",
       "1902       Epitaph Records          4500026           271   \n",
       "3775       bluenoterecords          4379061             2   \n",
       "403                    BTS          4375964           140   \n",
       "1446            AWOLNATION          4281753           122   \n",
       "962                   Zedd          4269305           161   \n",
       "291            Major Lazer          4235499           505   \n",
       "362        Porter Robinson          4206755            86   \n",
       "925          Flux Pavilion          4198946           105   \n",
       "378             Steve Aoki          4166700          1382   \n",
       "1945        Civil​Twilight          4064340           100   \n",
       "1900  Tooth & Nail Records          4018149            98   \n",
       "1150              Krewella          3956265           192   \n",
       "2734                NOISIA          3949196           497   \n",
       "443                  R3HAB          3919935           665   \n",
       "2261               Borgore          3822190           203   \n",
       "1678           nickyromero          3777515           268   \n",
       "1302                Datsik          3751663           142   \n",
       "2236              Modestep          3712598            90   \n",
       "1198        Kill The Noise          3694094           127   \n",
       "902                  OWSLA          3650951           495   \n",
       "1637           Seven Lions          3647634           218   \n",
       "1408     Madeleine Peyroux          3576364           155   \n",
       "1563          Valerie June          3521109            97   \n",
       "1787         Damian Marley          3478393           142   \n",
       "3748     Legacy Recordings          3450991             1   \n",
       "1687          steveangello          3393548           170   \n",
       "\n",
       "                                                url  \n",
       "id                                                   \n",
       "896              https://soundcloud.com/futureisnow  \n",
       "1772               https://soundcloud.com/bigsean-1  \n",
       "664                   https://soundcloud.com/defjam  \n",
       "1343           https://soundcloud.com/ymcmbofficial  \n",
       "1491             https://soundcloud.com/walefolarin  \n",
       "1746            https://soundcloud.com/shadyrecords  \n",
       "2720            https://soundcloud.com/lana-del-rey  \n",
       "1760                  https://soundcloud.com/bobatl  \n",
       "2096           https://soundcloud.com/foolsgoldrecs  \n",
       "1181            https://soundcloud.com/calvinharris  \n",
       "1183                   https://soundcloud.com/diplo  \n",
       "1092           https://soundcloud.com/elliegoulding  \n",
       "720                 https://soundcloud.com/skrillex  \n",
       "993            https://soundcloud.com/dillonfrancis  \n",
       "967                 https://soundcloud.com/zedsdead  \n",
       "325                https://soundcloud.com/maddecent  \n",
       "1011           https://soundcloud.com/flosstradamus  \n",
       "3672         https://soundcloud.com/johnnewmanmusic  \n",
       "1090                https://soundcloud.com/ellaeyre  \n",
       "2160                     https://soundcloud.com/rac  \n",
       "1914              https://soundcloud.com/bastilleuk  \n",
       "2170                  https://soundcloud.com/subpop  \n",
       "427               https://soundcloud.com/johnlegend  \n",
       "2316       https://soundcloud.com/frightened-rabbit  \n",
       "1902         https://soundcloud.com/epitaph-records  \n",
       "3775         https://soundcloud.com/bluenoterecords  \n",
       "403                  https://soundcloud.com/bangtan  \n",
       "1446              https://soundcloud.com/awolnation  \n",
       "962                     https://soundcloud.com/zedd  \n",
       "291               https://soundcloud.com/majorlazer  \n",
       "362          https://soundcloud.com/porter-robinson  \n",
       "925            https://soundcloud.com/flux-pavilion  \n",
       "378                https://soundcloud.com/steveaoki  \n",
       "1945           https://soundcloud.com/civiltwilight  \n",
       "1900  https://soundcloud.com/tooth-and-nail-records  \n",
       "1150                https://soundcloud.com/krewella  \n",
       "2734                  https://soundcloud.com/noisia  \n",
       "443                    https://soundcloud.com/r3hab  \n",
       "2261                 https://soundcloud.com/borgore  \n",
       "1678             https://soundcloud.com/nickyromero  \n",
       "1302                  https://soundcloud.com/datsik  \n",
       "2236                https://soundcloud.com/modestep  \n",
       "1198            https://soundcloud.com/killthenoise  \n",
       "902            https://soundcloud.com/owslaofficial  \n",
       "1637             https://soundcloud.com/seven-lions  \n",
       "1408        https://soundcloud.com/madeleinepeyroux  \n",
       "1563             https://soundcloud.com/valeriejune  \n",
       "1787            https://soundcloud.com/damianmarley  \n",
       "3748        https://soundcloud.com/legacyrecordings  \n",
       "1687            https://soundcloud.com/steveangello  "
      ]
     },
     "execution_count": 34,
     "metadata": {},
     "output_type": "execute_result"
    }
   ],
   "source": [
    "famous_artists = user_df.nlargest(50, 'followers_count')\n",
    "famous_artists"
   ]
  },
  {
   "attachments": {},
   "cell_type": "markdown",
   "id": "f45dc2ef",
   "metadata": {},
   "source": [
    "**Answer:** Of course, top 50 most followers - artists are famous singers and prestigious record producers"
   ]
  },
  {
   "attachments": {},
   "cell_type": "markdown",
   "id": "a5315e3d",
   "metadata": {},
   "source": [
    "---"
   ]
  },
  {
   "attachments": {},
   "cell_type": "markdown",
   "id": "e583877a",
   "metadata": {},
   "source": [
    "**Question: How was the trend of track uploading on SoundCloud through years?**"
   ]
  },
  {
   "cell_type": "code",
   "execution_count": 35,
   "id": "fca07dad",
   "metadata": {},
   "outputs": [
    {
     "data": {
      "image/png": "[encoded data removed]",
      "text/plain": [
       "<Figure size 2000x1000 with 2 Axes>"
      ]
     },
     "metadata": {},
     "output_type": "display_data"
    }
   ],
   "source": [
    "mon = pd.Series(pd.DatetimeIndex(track_df['upload_date']).month)\n",
    "year = pd.Series(pd.DatetimeIndex(track_df['upload_date']).year)\n",
    "board = pd.concat([mon, year], axis = 1)\n",
    "board.columns = ['month', 'year']\n",
    "board = board.groupby(['month', 'year']).size().reset_index(name = 'count')\n",
    "\n",
    "df_monthly = board.pivot(index = 'year', columns = 'month', values = 'count').fillna(0).astype(int)\n",
    "f, ax = plt.subplots(figsize = (20, 10))\n",
    "cmap = sns.color_palette(\"Blues\")\n",
    "\n",
    "monthly_sessions = sns.heatmap(df_monthly, \n",
    "                    fmt = \"d\", \n",
    "                    linewidths = 1, \n",
    "                    ax = ax, \n",
    "                    cmap = cmap, \n",
    "                    square = True)\n",
    "\n",
    "ax.axes.set_title(\"Tracks by month and year\", fontsize = 20)\n",
    "ax.set_xlabel(\"Month\", fontsize = 15)\n",
    "ax.set_ylabel(\"Year\", fontsize = 15)\n",
    "plt.show()"
   ]
  },
  {
   "attachments": {},
   "cell_type": "markdown",
   "id": "97f78b60",
   "metadata": {},
   "source": [
    "As you can see, before 2014, there are rare music production uploaded on SoundCloud because this platform has just been released in 2008.   \n",
    "Then, users uploaded more tracks from 2013 to 2018.   \n",
    "Later on, Users rarely upload music on this platform again."
   ]
  },
  {
   "cell_type": "code",
   "execution_count": 36,
   "id": "04c81703",
   "metadata": {},
   "outputs": [
    {
     "data": {
      "image/png": "[encoded data removed]",
      "text/plain": [
       "<Figure size 640x480 with 1 Axes>"
      ]
     },
     "metadata": {},
     "output_type": "display_data"
    }
   ],
   "source": [
    "track_df['year'] = pd.to_numeric(pd.DatetimeIndex(track_df['upload_date']).year)\n",
    "track_year = (Counter(track_df['year']))\n",
    "plt.bar(track_year.keys(), track_year.values())\n",
    "plt.xticks()\n",
    "plt.xlabel('Year')\n",
    "plt.ylabel('Number of upload Tracks')\n",
    "plt.title('Number of Uploaded Tracks by Years')\n",
    "plt.show() "
   ]
  },
  {
   "attachments": {},
   "cell_type": "markdown",
   "id": "65529e23",
   "metadata": {},
   "source": [
    "Number of uploaded tracks is easily observed to peak from 2013 to 2018, espeacially in 2015"
   ]
  },
  {
   "cell_type": "code",
   "execution_count": 37,
   "id": "bd83d92c",
   "metadata": {},
   "outputs": [
    {
     "data": {
      "image/png": "[encoded data removed]",
      "text/plain": [
       "<Figure size 640x480 with 1 Axes>"
      ]
     },
     "metadata": {},
     "output_type": "display_data"
    }
   ],
   "source": [
    "track_df['month'] = pd.to_numeric(pd.DatetimeIndex(track_df['upload_date']).month)\n",
    "track_month = (Counter(track_df['month']))\n",
    "month = set(track_df['month'])\n",
    "sample_set = frozenset(month)\n",
    "month = list(sample_set)\n",
    "plt.bar(track_month.keys(), track_month.values())\n",
    "plt.xlabel('Months in all the Periods')\n",
    "plt.ylabel('Number of upload Tracks')\n",
    "plt.xticks(month)\n",
    "plt.title('Number of Uploaded Tracks by Months')\n",
    "plt.show() "
   ]
  },
  {
   "attachments": {},
   "cell_type": "markdown",
   "id": "87a3a3c8",
   "metadata": {},
   "source": [
    "However, number of tracks uploaded monthly is still the same when we analyse from the first and the third graph above."
   ]
  },
  {
   "attachments": {},
   "cell_type": "markdown",
   "id": "ad70f44e",
   "metadata": {},
   "source": [
    "**References**    \n",
    "Title of news: SoundCloud Revenue And Usage Statistics (2022)  \n",
    "Url: https://www.businessofapps.com/data/soundcloud-statistics/"
   ]
  },
  {
   "attachments": {
    "image.png": {
     "image/png": "[encoded data removed]"
    }
   },
   "cell_type": "markdown",
   "id": "877af2f2",
   "metadata": {},
   "source": [
    "![image.png](attachment:image.png)"
   ]
  },
  {
   "attachments": {
    "image.png": {
     "image/png": "[encoded data removed]"
    }
   },
   "cell_type": "markdown",
   "id": "beaff245",
   "metadata": {},
   "source": [
    "![image.png](attachment:image.png)"
   ]
  },
  {
   "attachments": {},
   "cell_type": "markdown",
   "id": "e71932be",
   "metadata": {},
   "source": [
    "**Answer:** From over analysis and references above, it is proved and convinced that the trend of tracks upload on SoundCloud was trendy in terms of 6 years from 2013."
   ]
  },
  {
   "attachments": {},
   "cell_type": "markdown",
   "id": "7c78916c",
   "metadata": {},
   "source": [
    "---"
   ]
  },
  {
   "attachments": {},
   "cell_type": "markdown",
   "id": "74516f16",
   "metadata": {},
   "source": [
    "**Question: How was the trend of favorite musics through years?**"
   ]
  },
  {
   "cell_type": "code",
   "execution_count": 38,
   "id": "039cc9ac",
   "metadata": {},
   "outputs": [
    {
     "data": {
      "image/png": "[encoded data removed]",
      "text/plain": [
       "<Figure size 640x480 with 1 Axes>"
      ]
     },
     "metadata": {},
     "output_type": "display_data"
    }
   ],
   "source": [
    "playlist_df['year'] = pd.DatetimeIndex(playlist_df['create_date']).year\n",
    "temp_df = playlist_df[['year','likes_count']]\n",
    "final_df = temp_df.groupby('year').mean()\n",
    "plt.plot(final_df, marker = 'o')\n",
    "plt.xlabel('Year')\n",
    "plt.ylabel('Like_counts')\n",
    "plt.title(\"Average like_counts through each year\")\n",
    "plt.xticks(playlist_df['year'])\n",
    "plt.show()"
   ]
  },
  {
   "attachments": {},
   "cell_type": "markdown",
   "id": "5fe3c2ed",
   "metadata": {},
   "source": [
    "**Answer:** The line chart shows that tracks frequently receive more likes in 2015- 2019, because SoundCloud was one of the most favorite music platforms at that time."
   ]
  },
  {
   "attachments": {},
   "cell_type": "markdown",
   "id": "87c6c034",
   "metadata": {},
   "source": [
    "# Apply Linear Regression to Predict number of Playtimes by number of Like"
   ]
  },
  {
   "attachments": {},
   "cell_type": "markdown",
   "id": "83a37e33",
   "metadata": {},
   "source": [
    "First, we have the formula of correlation of number of playtime and number of likes of tracks here:  \n",
    ">>>>>>**<font size=\"10\">y = $\\alpha$.x + $\\beta$</font>** \n",
    "\n",
    "- y is variable of number of playtimes  \n",
    "- x is variable of number of likes  \n",
    "- $\\alpha$ is slope of formula  \n",
    "- $\\beta$ is a constant"
   ]
  },
  {
   "cell_type": "code",
   "execution_count": 39,
   "id": "0ee40430",
   "metadata": {},
   "outputs": [],
   "source": [
    "def getTheta(x, y):\n",
    "    a = np.transpose(x) @ x\n",
    "    b = np.linalg.inv(a)\n",
    "    c = np.transpose(x) @ y\n",
    "    Theta = b @ c\n",
    "    return Theta"
   ]
  },
  {
   "cell_type": "code",
   "execution_count": 40,
   "id": "016b01f4",
   "metadata": {
    "scrolled": true
   },
   "outputs": [
    {
     "data": {
      "text/plain": [
       "array([-3.54539854e+05,  7.74209025e+01])"
      ]
     },
     "execution_count": 40,
     "metadata": {},
     "output_type": "execute_result"
    }
   ],
   "source": [
    "y = np.array(track_df['plays_count'])\n",
    "x = np.array(track_df['likes_count'])\n",
    "list_none = np.array([1 for i in range(len(x))])\n",
    "X = []\n",
    "X.append(list_none)\n",
    "X.append(x)\n",
    "X = np.transpose(X)\n",
    "Theta = getTheta(X, y)\n",
    "Theta"
   ]
  },
  {
   "attachments": {},
   "cell_type": "markdown",
   "id": "e3d6f268",
   "metadata": {},
   "source": [
    "Actually, now we have $\\beta$ = -3.54539854e+05 and $\\alpha$ = 7.74209025e+01"
   ]
  },
  {
   "cell_type": "code",
   "execution_count": 41,
   "id": "9b850207",
   "metadata": {},
   "outputs": [
    {
     "data": {
      "image/png": "[encoded data removed]",
      "text/plain": [
       "<Figure size 640x480 with 1 Axes>"
      ]
     },
     "metadata": {},
     "output_type": "display_data"
    }
   ],
   "source": [
    "plt.plot(x, y, \"x\", color = '#90EE90')\n",
    "t = np.linspace(min(x), max(x) + 20000000, 50)\n",
    "model = [Theta * ti for ti in t]\n",
    "plt.plot(t, model, color = 'red')\n",
    "plt.xlim([0, 3500000])\n",
    "plt.xlabel('Number of Likes')\n",
    "plt.ylim([0, 350000000])\n",
    "plt.ylabel('Number of Music Play')\n",
    "plt.title('Graph of Effect of Likes on Music Play')\n",
    "plt.show()"
   ]
  },
  {
   "attachments": {},
   "cell_type": "markdown",
   "id": "3fa3556b",
   "metadata": {},
   "source": [
    "The red line presented the formula **y = $\\alpha$.x + $\\beta$**  \n",
    "Actually **y $\\approx$ 77.4 * x + 3.54539854e+05**  \n",
    "Due to this formula, we can see the slope $\\alpha$ (77.4) is positive and really high, which means the more likes tracks get, the more playtimes receive  \n",
    "Also, $\\beta$ (3.54539854e+05) is big positive number which relates that the statements we tried to convinced is true.  \n",
    "Finally, we could use this formula to predict closely number of playtimes or number of likes of a track."
   ]
  },
  {
   "attachments": {},
   "cell_type": "markdown",
   "id": "c237d11c",
   "metadata": {},
   "source": [
    "---"
   ]
  },
  {
   "cell_type": "code",
   "execution_count": 42,
   "id": "345becd4",
   "metadata": {},
   "outputs": [],
   "source": [
    "x = track_df[~track_df['comments_count'].isnull()]\n",
    "y = np.array(x['plays_count'])\n",
    "x = x['comments_count']\n",
    "x = np.array(pd.to_numeric(x))"
   ]
  },
  {
   "cell_type": "code",
   "execution_count": 43,
   "id": "44bb8cbd",
   "metadata": {},
   "outputs": [
    {
     "data": {
      "image/png": "[encoded data removed]",
      "text/plain": [
       "<Figure size 640x480 with 1 Axes>"
      ]
     },
     "metadata": {},
     "output_type": "display_data"
    }
   ],
   "source": [
    "plt.plot(x, y, \"x\", color = '#90EE90')\n",
    "plt.xlim([0, 10000])\n",
    "plt.xlabel('Number of Comments')\n",
    "plt.ylim([0, 1000000])\n",
    "plt.ylabel('Number of Playtime')\n",
    "plt.title('Graph of Effect of Comments on Music Play')\n",
    "plt.show()"
   ]
  },
  {
   "attachments": {},
   "cell_type": "markdown",
   "id": "305ae869",
   "metadata": {},
   "source": [
    "Number of playtimes is not affected by number of comments on the track.  \n",
    "We could observed, the wide range of playtimes frequently receives under 1000 comments."
   ]
  },
  {
   "attachments": {},
   "cell_type": "markdown",
   "id": "3e7f0c2a",
   "metadata": {},
   "source": [
    "---"
   ]
  },
  {
   "attachments": {},
   "cell_type": "markdown",
   "id": "fba84b06",
   "metadata": {},
   "source": [
    "**Question: What is the average tracks per playlist**"
   ]
  },
  {
   "cell_type": "code",
   "execution_count": 44,
   "id": "e7182c38",
   "metadata": {},
   "outputs": [
    {
     "name": "stdout",
     "output_type": "stream",
     "text": [
      "0    500\n",
      "dtype: int64\n"
     ]
    }
   ],
   "source": [
    "mean_numtrack = playlist_df['tracks_count'].mean()\n",
    "median_numtrack = playlist_df['tracks_count'].median()\n",
    "mode_numtrack = playlist_df['tracks_count'].mode()\n",
    "print(mode_numtrack)"
   ]
  },
  {
   "cell_type": "code",
   "execution_count": 45,
   "id": "53e2f01a",
   "metadata": {},
   "outputs": [
    {
     "data": {
      "image/png": "[encoded data removed]",
      "text/plain": [
       "<Figure size 640x480 with 1 Axes>"
      ]
     },
     "metadata": {},
     "output_type": "display_data"
    }
   ],
   "source": [
    "plt.hist(playlist_df['tracks_count'], 10)\n",
    "plt.title('How many tracks in Playlist')\n",
    "plt.axvline(x = mean_numtrack, color = 'red', label = 'Mean')\n",
    "plt.axvline(x = median_numtrack, color = 'orange', label = 'Median')\n",
    "plt.axvline(x = 500, color = 'yellow', label = 'Mode')\n",
    "plt.xlabel(\"Track IDs\")\n",
    "plt.ylabel(\"Number of Tracks included\")\n",
    "plt.xticks()\n",
    "plt.legend()\n",
    "plt.show()"
   ]
  },
  {
   "attachments": {},
   "cell_type": "markdown",
   "id": "26d4b5e0",
   "metadata": {},
   "source": [
    "**Answer:**   \n",
    "So the average tracks per playlist is 308 tracks.  \n",
    "The median value of tracks per playlist is 360 tracks.  \n",
    "500 is the most frequent value occuring in the playlists.  \n",
    "In conclusion, a playlist may include a big number of tracks about 360 to 500 tracks."
   ]
  },
  {
   "attachments": {},
   "cell_type": "markdown",
   "id": "175d3ace",
   "metadata": {},
   "source": [
    "---"
   ]
  },
  {
   "attachments": {},
   "cell_type": "markdown",
   "id": "1454d1e2",
   "metadata": {},
   "source": [
    "**Question: Is it true that if the more likes_count playlist has, the more track_counts playlist has.**"
   ]
  },
  {
   "cell_type": "code",
   "execution_count": 46,
   "id": "6e0ccab3",
   "metadata": {},
   "outputs": [
    {
     "data": {
      "image/png": "[encoded data removed]",
      "text/plain": [
       "<Figure size 640x480 with 1 Axes>"
      ]
     },
     "metadata": {},
     "output_type": "display_data"
    }
   ],
   "source": [
    "x = np.arange(0, 1000000)\n",
    "a = 10000000\n",
    "b = 10000000\n",
    "y = 1 / (a * x + b)\n",
    "plt.plot(x, y, color = 'red')\n",
    "plt.axvline(x = 0, color = 'red')\n",
    "plt.scatter(playlist_df['likes_count'], playlist_df['tracks_count'])\n",
    "plt.xlabel('likes_count')\n",
    "plt.ylabel('tracks_count')\n",
    "plt.title('Number of Uploaded Tracks and Number of Likes of One Playlist')\n",
    "plt.show()"
   ]
  },
  {
   "attachments": {},
   "cell_type": "markdown",
   "id": "a4038270",
   "metadata": {},
   "source": [
    "**Answer:**   \n",
    "As you can see, it is false that the more likes_count playlist has, the more track_counts playlist has.  \n",
    "If it is true, the bigger the likes_count is, the bigger the tracks_count must be.   \n",
    "But in the above chart, you can see clearly that it not true."
   ]
  }
 ],
 "metadata": {
  "kernelspec": {
   "display_name": "Python 3 (ipykernel)",
   "language": "python",
   "name": "python3"
  },
  "language_info": {
   "codemirror_mode": {
    "name": "ipython",
    "version": 3
   },
   "file_extension": ".py",
   "mimetype": "text/x-python",
   "name": "python",
   "nbconvert_exporter": "python",
   "pygments_lexer": "ipython3",
   "version": "3.8.8"
  },
  "vscode": {
   "interpreter": {
    "hash": "8395ca0b5873fc3de583ead4c56c35736342a2bed86f544c50a56c83355a692e"
   }
  }
 },
 "nbformat": 4,
 "nbformat_minor": 5
}
